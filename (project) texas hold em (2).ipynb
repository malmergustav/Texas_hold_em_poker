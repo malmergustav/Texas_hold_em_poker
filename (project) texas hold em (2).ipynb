{
 "cells": [
  {
   "cell_type": "markdown",
   "id": "49b45447",
   "metadata": {},
   "source": [
    "## Front-end"
   ]
  },
  {
   "cell_type": "markdown",
   "id": "477d025f",
   "metadata": {},
   "source": [
    "### Font color"
   ]
  },
  {
   "cell_type": "code",
   "execution_count": 1,
   "id": "d219dfa6",
   "metadata": {
    "ExecuteTime": {
     "end_time": "2023-04-13T13:51:32.732629Z",
     "start_time": "2023-04-13T13:51:32.716210Z"
    }
   },
   "outputs": [],
   "source": [
    "class bcolors:\n",
    "    HEADER = '\\033[95m'\n",
    "    OKBLUE = '\\033[94m'\n",
    "    OKCYAN = '\\033[96m'\n",
    "    OKGREEN = '\\033[92m'\n",
    "    WARNING = '\\033[93m'\n",
    "    FAIL = '\\033[91m'\n",
    "    ENDC = '\\033[0m'\n",
    "    BOLD = '\\033[1m'\n",
    "    UNDERLINE = '\\033[4m'\n",
    "    \n",
    "# print(bcolors.WARNING + \"Warning: No active frommets remain. Continue?\" + bcolors.ENDC)\n",
    "# print(f\"{bcolors.WARNING}Warning: No active frommets remain. Continue?{bcolors.ENDC}\")"
   ]
  },
  {
   "cell_type": "markdown",
   "id": "a95a229d",
   "metadata": {},
   "source": [
    "### Test values"
   ]
  },
  {
   "cell_type": "code",
   "execution_count": 2,
   "id": "e709bf8b",
   "metadata": {
    "ExecuteTime": {
     "end_time": "2023-04-13T13:51:32.737564Z",
     "start_time": "2023-04-13T13:51:32.734750Z"
    }
   },
   "outputs": [],
   "source": [
    "\n",
    "player_cards_list = [('8♠', '7♦'), ('Q♥', '10♠'), ('5♠', '4♦'), ('7♠', '5♣')]\n",
    "# flop = create_shuffle_deck()[:3]\n",
    "turn = [' J♣']\n",
    "river = ['6♠ ']\n",
    "stacks_list = [1000, 1000, 980, 960, 1000]\n",
    "player_list = [0, 1, 2, 3, 4]"
   ]
  },
  {
   "cell_type": "markdown",
   "id": "07401be7",
   "metadata": {},
   "source": [
    "### Display board"
   ]
  },
  {
   "cell_type": "code",
   "execution_count": 3,
   "id": "eddc42a3",
   "metadata": {
    "ExecuteTime": {
     "end_time": "2023-04-13T13:51:32.746244Z",
     "start_time": "2023-04-13T13:51:32.738909Z"
    }
   },
   "outputs": [],
   "source": [
    "from IPython.display import clear_output\n",
    "\n",
    "def display_board(bet_storage_list, player_list, player_index, player_cards_list, stacks_list, last_action_list = '',flop=[' ',' ',' '], turn=[' '], river=[' ']):\n",
    "    \n",
    "    s = stacks_list\n",
    "    players = len(player_list)\n",
    "    lm = last_action_list\n",
    "    \n",
    "    print (f'                            {bcolors.OKBLUE}Player {player_index + 1}\\'s turn{bcolors.ENDC}')\n",
    "\n",
    "    print(f'    .──────────────────────────────────────────────────────────.')\n",
    "    print(f'   /                                                             \\\\ Player {player_list[0]} (d)') \n",
    "    print(f'  /                                                        🂠 🂠    \\\\ {s[0]} $')\n",
    "    print(f' /                                                                 \\\\')\n",
    "    print(f'│                                                     ')\n",
    "    print(f'│                                                                   │')\n",
    "    print(f'│                                                                   │')\n",
    "    print(f'│                                                                   │')\n",
    "    print(f'│                              Pot: {sum(bet_storage_list)}                     🂠 🂠   │  Player {player_list[1]} ({lm[1]})') \n",
    "    print(f'│                                                                   │   {s[1]} $')\n",
    "    print(f'│                                                                   │')\n",
    "    print(f'│                                                                   │')\n",
    "    print(f'│                                                                   │')\n",
    "    print(f' \\                                                                 /')\n",
    "    if players >= 3:\n",
    "        print(f'  \\                                                         🂠 🂠   / Player {player_list[2]} ({lm[2]})')\n",
    "        print(f'   \\                                                              /   {s[2]} $')\n",
    "\n",
    "    else:\n",
    "        print(f'  \\                                                               /')\n",
    "\n",
    "\n",
    "    if players >= 5:\n",
    "        print(f'   \\            🂠 🂠                            🂠 🂠               /    ')\n",
    "\n",
    "\n",
    "    elif players >= 4:\n",
    "        print(f'    \\                                         🂠 🂠                / ')\n",
    "\n",
    "\n",
    "\n",
    "\n",
    "\n",
    "    print(f'    •───────────────────────────────────────────────────────────•')\n",
    "\n",
    "\n",
    "\n",
    "\n",
    "\n",
    "\n",
    "\n",
    "\n",
    "    if players >= 5:\n",
    "        print(f'            Player {player_list[4]} ()                   Player {player_list[3]} ({lm[3]})       ')\n",
    "        print(f'              {s[4]} $                           {s[3]} $       ')\n",
    "\n",
    "    elif players >= 4:\n",
    "        print(f'                                            Player {player_list[3]} ({lm[3]})               ')\n",
    "        print(f'                                              ({s[3]}) $       ')\n",
    "\n",
    "\n",
    "    \n",
    "    "
   ]
  },
  {
   "cell_type": "code",
   "execution_count": 4,
   "id": "7592722a",
   "metadata": {
    "ExecuteTime": {
     "end_time": "2023-04-13T13:51:32.754640Z",
     "start_time": "2023-04-13T13:51:32.748594Z"
    }
   },
   "outputs": [],
   "source": [
    "from IPython.display import clear_output\n",
    "\n",
    "\n",
    "def display_board_flop(pot, bet_storage_list, player_list, player_index, player_cards_list, stacks_list, last_action_list = '', flop=[' ', ' ', ' '], turn=[' '], river=[' ']):\n",
    "    \n",
    "    s = stacks_list\n",
    "    print(player_list)\n",
    "    players = len(player_list)\n",
    "    lm = last_action_list\n",
    "    \n",
    "    print (f'                            {bcolors.OKBLUE}Player {player_index + 1}\\'s turn{bcolors.ENDC}')\n",
    "\n",
    "    print(f'    .──────────────────────────────────────────────────────────.')\n",
    "    print(f'   /                                                             \\\\ Player {player_list[0]} (d)') \n",
    "    print(f'  /                                                        🂠 🂠    \\\\ {s[0]} $')\n",
    "    print(f' /                                                                 \\\\')\n",
    "    print(f'│                        { flop[0] }  {  flop[1] }  {  flop[2] }                              ')\n",
    "    print(f'│                                                                   │')\n",
    "    print(f'│                                                                   │')\n",
    "    print(f'│                                                                   │')\n",
    "    print(f'│                              Pot: {pot + sum(bet_storage_list)}                     🂠 🂠   │  Player {player_list[1]} ({lm[1]})') \n",
    "    print(f'│                                                                   │   {s[1]} $')\n",
    "    print(f'│                                                                   │')\n",
    "    print(f'│                                                                   │')\n",
    "    print(f'│                                                                   │')\n",
    "    print(f' \\                                                                 /')\n",
    "    if players >= 3:\n",
    "        print(f'  \\                                                         🂠 🂠   / Player {player_list[2]} ({lm[2]})')\n",
    "        print(f'   \\                                                              /   {s[2]} $')\n",
    "\n",
    "    else:\n",
    "        print(f'  \\                                                               /')\n",
    "\n",
    "\n",
    "    if players >= 5:\n",
    "        print(f'   \\            🂠 🂠                            🂠 🂠               /    ')\n",
    "\n",
    "\n",
    "    elif players >= 4:\n",
    "        print(f'    \\                                         🂠 🂠                / ')\n",
    "\n",
    "\n",
    "\n",
    "\n",
    "\n",
    "    print(f'    •───────────────────────────────────────────────────────────•')\n",
    "\n",
    "\n",
    "\n",
    "\n",
    "\n",
    "\n",
    "\n",
    "\n",
    "    if players >= 5:\n",
    "        print(f'            Player {player_list[4]} ()                   Player {player_list[3]} ({lm[3]})       ')\n",
    "        print(f'              {s[4]} $                           {s[3]} $       ')\n",
    "\n",
    "    elif players >= 4:\n",
    "        print(f'                                            Player {player_list[3]} ({lm[3]})               ')\n",
    "        print(f'                                              ({s[3]}) $       ')\n",
    "\n",
    "\n",
    "    \n",
    "    "
   ]
  },
  {
   "cell_type": "code",
   "execution_count": 5,
   "id": "67431a3b",
   "metadata": {
    "ExecuteTime": {
     "end_time": "2023-04-13T13:51:32.761856Z",
     "start_time": "2023-04-13T13:51:32.755958Z"
    }
   },
   "outputs": [],
   "source": [
    "from IPython.display import clear_output\n",
    "\n",
    "\n",
    "def display_board_turn(pot, bet_storage_list, player_list, player_index, player_cards_list, stacks_list, last_action_list = '', flop=[' ', ' ', ' '], turn=[' '], river=[' ']):\n",
    "    \n",
    "    s = stacks_list\n",
    "    print(player_list)\n",
    "    players = len(player_list)\n",
    "    lm = last_action_list\n",
    "    \n",
    "    print (f'                            {bcolors.OKBLUE}Player {player_index + 1}\\'s turn{bcolors.ENDC}')\n",
    "\n",
    "    print(f'    .──────────────────────────────────────────────────────────.')\n",
    "    print(f'   /                                                             \\\\ Player {player_list[0]} (d)') \n",
    "    print(f'  /                                                        🂠 🂠    \\\\ {s[0]} $')\n",
    "    print(f' /                                                                 \\\\')\n",
    "    print(f'│                        { flop[0] }  {  flop[1] }  {  flop[2] } {  turn[0] } {  river[0] }                             ')\n",
    "    print(f'│                                                                   │')\n",
    "    print(f'│                                                                   │')\n",
    "    print(f'│                                                                   │')\n",
    "    print(f'│                              Pot: {pot + sum(bet_storage_list)}                     🂠 🂠   │  Player {player_list[1]} ({lm[1]})') \n",
    "    print(f'│                                                                   │   {s[1]} $')\n",
    "    print(f'│                                                                   │')\n",
    "    print(f'│                                                                   │')\n",
    "    print(f'│                                                                   │')\n",
    "    print(f' \\                                                                 /')\n",
    "    if players >= 3:\n",
    "        print(f'  \\                                                         🂠 🂠   / Player {player_list[2]} ({lm[2]})')\n",
    "        print(f'   \\                                                              /   {s[2]} $')\n",
    "\n",
    "    else:\n",
    "        print(f'  \\                                                               /')\n",
    "\n",
    "\n",
    "    if players >= 5:\n",
    "        print(f'   \\            🂠 🂠                            🂠 🂠               /    ')\n",
    "\n",
    "\n",
    "    elif players >= 4:\n",
    "        print(f'    \\                                         🂠 🂠                / ')\n",
    "\n",
    "\n",
    "\n",
    "\n",
    "\n",
    "    print(f'    •───────────────────────────────────────────────────────────•')\n",
    "\n",
    "\n",
    "\n",
    "\n",
    "\n",
    "\n",
    "\n",
    "\n",
    "    if players >= 5:\n",
    "        print(f'            Player {player_list[4]} ()                   Player {player_list[3]} ({lm[3]})       ')\n",
    "        print(f'              {s[4]} $                           {s[3]} $       ')\n",
    "\n",
    "    elif players >= 4:\n",
    "        print(f'                                            Player {player_list[3]} ({lm[3]})               ')\n",
    "        print(f'                                              ({s[3]}) $       ')\n",
    "\n",
    "\n",
    "    \n",
    "    "
   ]
  },
  {
   "cell_type": "code",
   "execution_count": 6,
   "id": "04a43c6c",
   "metadata": {
    "ExecuteTime": {
     "end_time": "2023-04-13T13:51:32.769024Z",
     "start_time": "2023-04-13T13:51:32.763071Z"
    }
   },
   "outputs": [],
   "source": [
    "from IPython.display import clear_output\n",
    "\n",
    "\n",
    "def display_board_river(pot, bet_storage_list, player_list, player_index, player_cards_list, stacks_list, last_action_list = '', flop=[' ', ' ', ' '], turn=[' '], river=[' ']):\n",
    "    \n",
    "    s = stacks_list\n",
    "    print(player_list)\n",
    "    players = len(player_list)\n",
    "    lm = last_action_list\n",
    "    \n",
    "    print (f'                            {bcolors.OKBLUE}Player {player_index + 1}\\'s turn{bcolors.ENDC}')\n",
    "\n",
    "    print(f'    .──────────────────────────────────────────────────────────.')\n",
    "    print(f'   /                                                             \\\\ Player {player_list[0]} (d)') \n",
    "    print(f'  /                                                        🂠 🂠    \\\\ {s[0]} $')\n",
    "    print(f' /                                                                 \\\\')\n",
    "    print(f'│                        { flop[0] }  {  flop[1] }  {  flop[2] } {  turn[0] } {  river[0] }                             ')\n",
    "    print(f'│                                                                   │')\n",
    "    print(f'│                                                                   │')\n",
    "    print(f'│                                                                   │')\n",
    "    print(f'│                              Pot: {pot + sum(bet_storage_list)}                     🂠 🂠   │  Player {player_list[1]} ({lm[1]})') \n",
    "    print(f'│                                                                   │   {s[1]} $')\n",
    "    print(f'│                                                                   │')\n",
    "    print(f'│                                                                   │')\n",
    "    print(f'│                                                                   │')\n",
    "    print(f' \\                                                                 /')\n",
    "    if players >= 3:\n",
    "        print(f'  \\                                                         🂠 🂠   / Player {player_list[2]} ({lm[2]})')\n",
    "        print(f'   \\                                                              /   {s[2]} $')\n",
    "\n",
    "    else:\n",
    "        print(f'  \\                                                               /')\n",
    "\n",
    "\n",
    "    if players >= 5:\n",
    "        print(f'   \\            🂠 🂠                            🂠 🂠               /    ')\n",
    "\n",
    "\n",
    "    elif players >= 4:\n",
    "        print(f'    \\                                         🂠 🂠                / ')\n",
    "\n",
    "\n",
    "\n",
    "\n",
    "\n",
    "    print(f'    •───────────────────────────────────────────────────────────•')\n",
    "\n",
    "\n",
    "\n",
    "\n",
    "\n",
    "\n",
    "\n",
    "\n",
    "    if players >= 5:\n",
    "        print(f'            Player {player_list[4]} ()                   Player {player_list[3]} ({lm[3]})       ')\n",
    "        print(f'              {s[4]} $                           {s[3]} $       ')\n",
    "\n",
    "    elif players >= 4:\n",
    "        print(f'                                            Player {player_list[3]} ({lm[3]})               ')\n",
    "        print(f'                                              ({s[3]}) $       ')\n",
    "\n",
    "\n",
    "    \n",
    "    "
   ]
  },
  {
   "cell_type": "markdown",
   "id": "192de8a5",
   "metadata": {},
   "source": [
    "## Global variables"
   ]
  },
  {
   "cell_type": "code",
   "execution_count": null,
   "id": "470dd856",
   "metadata": {},
   "outputs": [],
   "source": []
  },
  {
   "cell_type": "markdown",
   "id": "9353c081",
   "metadata": {
    "ExecuteTime": {
     "end_time": "2023-04-11T15:00:05.084267Z",
     "start_time": "2023-04-11T15:00:05.004380Z"
    }
   },
   "source": [
    "player_list = []\n",
    "button #deal button\n",
    "shuffled_deck\n",
    "last_move\n",
    "dealt_cards\n",
    "stack\n",
    "pot\n",
    "bet_storage\n",
    "last_action\n",
    "in_play \n",
    "\n",
    "test"
   ]
  },
  {
   "cell_type": "code",
   "execution_count": null,
   "id": "5c758c2c",
   "metadata": {},
   "outputs": [],
   "source": []
  },
  {
   "cell_type": "markdown",
   "id": "26f632d0",
   "metadata": {},
   "source": [
    "## Create players"
   ]
  },
  {
   "cell_type": "code",
   "execution_count": 7,
   "id": "6fedba06",
   "metadata": {
    "ExecuteTime": {
     "end_time": "2023-04-13T13:51:32.772002Z",
     "start_time": "2023-04-13T13:51:32.770201Z"
    }
   },
   "outputs": [],
   "source": [
    "# Creates a list of players, with the length matching the number of players in the game\n",
    "\n",
    "def create_players(playernum):\n",
    "    players = [player for player in range(playernum)]\n",
    "    \n",
    "    return players"
   ]
  },
  {
   "cell_type": "markdown",
   "id": "1ce807ee",
   "metadata": {},
   "source": [
    "## Display board"
   ]
  },
  {
   "cell_type": "code",
   "execution_count": 8,
   "id": "5eec3576",
   "metadata": {
    "ExecuteTime": {
     "end_time": "2023-04-13T13:51:32.778660Z",
     "start_time": "2023-04-13T13:51:32.773052Z"
    }
   },
   "outputs": [
    {
     "data": {
      "text/plain": [
       "'Hello'"
      ]
     },
     "execution_count": 8,
     "metadata": {},
     "output_type": "execute_result"
    }
   ],
   "source": [
    "\"Hello\""
   ]
  },
  {
   "cell_type": "markdown",
   "id": "5256f2c1",
   "metadata": {},
   "source": [
    "## Deal button"
   ]
  },
  {
   "cell_type": "code",
   "execution_count": 9,
   "id": "695fdabd",
   "metadata": {
    "ExecuteTime": {
     "end_time": "2023-04-13T13:51:32.781932Z",
     "start_time": "2023-04-13T13:51:32.779808Z"
    }
   },
   "outputs": [],
   "source": [
    "# Sets a position of the dealer button\n",
    "\n",
    "def deal_button(players, player_index):\n",
    "    \n",
    "    players[player_index] = 'D'\n",
    "    \n",
    "    return players"
   ]
  },
  {
   "cell_type": "markdown",
   "id": "bdba0d34",
   "metadata": {},
   "source": [
    "## Create shuffle deck"
   ]
  },
  {
   "cell_type": "code",
   "execution_count": 10,
   "id": "f5b6e0af",
   "metadata": {
    "ExecuteTime": {
     "end_time": "2023-04-13T13:51:32.787620Z",
     "start_time": "2023-04-13T13:51:32.785012Z"
    }
   },
   "outputs": [],
   "source": [
    "import random\n",
    "# Creates a shuffled deck fo 52 cards from which we will pop when we deal out cards\n",
    "def create_shuffle_deck():\n",
    "    # Map card to number\n",
    "    cards = ['A', '2', '3', '4', '5', '6', '7', '8', '9', '10', 'J', 'Q', 'K']\n",
    "    suits = [\"\\u2663\", \"\\u2665\", \"\\u2666\", \"\\u2660\"]\n",
    "    \n",
    "    deck = [(card + suit) for card in cards for suit in suits]\n",
    "    # Shuffle deck    \n",
    "    \n",
    "    random.shuffle(deck)\n",
    "#     print(deck)\n",
    "    \n",
    "    return deck"
   ]
  },
  {
   "cell_type": "markdown",
   "id": "c3214e91",
   "metadata": {},
   "source": [
    "## Starting stack"
   ]
  },
  {
   "cell_type": "code",
   "execution_count": 11,
   "id": "a161003d",
   "metadata": {
    "ExecuteTime": {
     "end_time": "2023-04-13T13:51:32.791008Z",
     "start_time": "2023-04-13T13:51:32.788783Z"
    }
   },
   "outputs": [],
   "source": [
    "# Sets the starting stack for each player\n",
    "def starting_stack(players):\n",
    "    starting_stack = int(input('What should the starting stack be? '))\n",
    "    stacks = [starting_stack for i in players]\n",
    "    return stacks"
   ]
  },
  {
   "cell_type": "markdown",
   "id": "d577daf5",
   "metadata": {},
   "source": [
    "## Deal cards"
   ]
  },
  {
   "cell_type": "code",
   "execution_count": 12,
   "id": "0026a19b",
   "metadata": {
    "ExecuteTime": {
     "end_time": "2023-04-13T13:51:32.795006Z",
     "start_time": "2023-04-13T13:51:32.792184Z"
    }
   },
   "outputs": [],
   "source": [
    "# Creates a list of tuples where each tuple contains two cards for each player, being their hand\n",
    "def deal_cards(deck, players):\n",
    "    enum = enumerate(players)\n",
    "    lst = []\n",
    "    for player in enum:\n",
    "        card1 = deck.pop()\n",
    "        card2 = deck.pop()\n",
    "        lst.append((card1, card2))\n",
    "        \n",
    "    return lst"
   ]
  },
  {
   "cell_type": "markdown",
   "id": "d38c2b53",
   "metadata": {},
   "source": [
    "## Bet"
   ]
  },
  {
   "cell_type": "code",
   "execution_count": 13,
   "id": "81660d71",
   "metadata": {
    "ExecuteTime": {
     "end_time": "2023-04-13T13:51:32.799868Z",
     "start_time": "2023-04-13T13:51:32.796621Z"
    }
   },
   "outputs": [],
   "source": [
    "# This function is run when a player bets\n",
    "# It updates the stack of the player, checks so the bet amount is valid and updates the bet_storage list\n",
    "def bet(bet_storage_list, stacks_list, player_index):\n",
    "    \n",
    "    bet = int(input('What do you want to bet? '))\n",
    "    while bet > stacks_list[player_index]:\n",
    "        print(\"You cant bet more than you have in your stack\")\n",
    "        bet = int(input('What do you want to bet? '))\n",
    "    else:\n",
    "        stacks_list[player_index] -= bet\n",
    "        bet_storage_list[player_index] += bet\n",
    "        \n",
    "    return bet_storage_list, stacks_list"
   ]
  },
  {
   "cell_type": "markdown",
   "id": "3c9234f7",
   "metadata": {},
   "source": [
    "## Bet blind"
   ]
  },
  {
   "cell_type": "code",
   "execution_count": 14,
   "id": "f685a6ba",
   "metadata": {
    "ExecuteTime": {
     "end_time": "2023-04-13T13:51:32.804581Z",
     "start_time": "2023-04-13T13:51:32.801299Z"
    }
   },
   "outputs": [],
   "source": [
    "# This automatically puts in the blinds, updates the stacks of each player as well as bet storage and last_action\n",
    "def bet_blind (button, stacks, small_blind, big_blind, bet_storage, last_action):\n",
    "    for index, stack in enumerate(stacks):\n",
    "        if button.index('D') + 1 == index:\n",
    "            stack -= small_blind\n",
    "            stacks[index] = stack\n",
    "            bet_storage[index] = small_blind\n",
    "        elif button.index('D') + 2 == index:\n",
    "            stack -= int(big_blind)\n",
    "            stacks[index] = stack\n",
    "            bet_storage[index] = big_blind\n",
    "            last_action[index] = 1\n",
    "            \n",
    "    return (stacks, bet_storage, last_action)"
   ]
  },
  {
   "cell_type": "markdown",
   "id": "944a6b8b",
   "metadata": {},
   "source": [
    "## Whose turn"
   ]
  },
  {
   "cell_type": "code",
   "execution_count": 15,
   "id": "9b59e913",
   "metadata": {
    "ExecuteTime": {
     "end_time": "2023-04-13T13:51:32.808256Z",
     "start_time": "2023-04-13T13:51:32.805855Z"
    }
   },
   "outputs": [],
   "source": [
    "def whose_turn(last_action_list):   #Return a list where the turn has moved one to the right, need to assign to variable\n",
    "    copy = last_action_list.copy()\n",
    "    copy[(last_action_list.index(1) + 1) % (len(last_action_list))] = 1\n",
    "    copy[last_action_list.index(1)] = 0\n",
    "    return copy"
   ]
  },
  {
   "cell_type": "markdown",
   "id": "21470550",
   "metadata": {},
   "source": [
    "## Display hand"
   ]
  },
  {
   "cell_type": "code",
   "execution_count": 16,
   "id": "bf0b6d72",
   "metadata": {
    "ExecuteTime": {
     "end_time": "2023-04-13T13:51:32.812611Z",
     "start_time": "2023-04-13T13:51:32.809561Z"
    }
   },
   "outputs": [
    {
     "data": {
      "text/plain": [
       "[('8♠', '7♦'), ('Q♥', '10♠'), ('5♠', '4♦'), ('7♠', '5♣')]"
      ]
     },
     "execution_count": 16,
     "metadata": {},
     "output_type": "execute_result"
    }
   ],
   "source": [
    "player_cards_list"
   ]
  },
  {
   "cell_type": "code",
   "execution_count": 17,
   "id": "ea815926",
   "metadata": {
    "ExecuteTime": {
     "end_time": "2023-04-13T13:51:32.817136Z",
     "start_time": "2023-04-13T13:51:32.813899Z"
    }
   },
   "outputs": [],
   "source": [
    "# Lets the player choose if they want to see their hand or not, applicable depending on FE\n",
    "def display_hand(player_cards_list, player_index):\n",
    "    choice = input('\"y\" for display hand, \"n\" to skip').lower()\n",
    "    if choice == 'y':\n",
    "        cards = player_cards_list[player_index]\n",
    "        print(bcolors.OKGREEN + \"Player \" + str(player_index) + \"'s cards\" +bcolors.ENDC)\n",
    "        print('┌─────────┐  ┌─────────┐')\n",
    "        print(f\"│ {cards[0][0]}       │  │ {cards[1][0]}       │\")\n",
    "        print(f'│         │  │         │ ')\n",
    "        print(f'│         │  │         │ ')\n",
    "        print(f'│    {cards[0][1]}    │  │    {cards[0][1]}    │ ')\n",
    "        print(f'│         │  │         │ ')\n",
    "        print(f'│         │  │         │ ')\n",
    "        print(f'│       {cards[0][0]} │  │       {cards[0][0]} │ ')\n",
    "        print(f'└─────────┘  └─────────┘ ')\n",
    "    \n"
   ]
  },
  {
   "cell_type": "markdown",
   "id": "12131777",
   "metadata": {},
   "source": [
    "## Check"
   ]
  },
  {
   "cell_type": "code",
   "execution_count": 18,
   "id": "909a6a72",
   "metadata": {
    "ExecuteTime": {
     "end_time": "2023-04-13T13:51:32.819807Z",
     "start_time": "2023-04-13T13:51:32.817975Z"
    }
   },
   "outputs": [],
   "source": [
    "# Should run when a player checks, updates check_list\n",
    "def check(check_list, player_index):\n",
    "    check_list[player_index] = 1\n",
    "    return check_list"
   ]
  },
  {
   "cell_type": "markdown",
   "id": "70a27b10",
   "metadata": {},
   "source": [
    "## Choose move"
   ]
  },
  {
   "cell_type": "code",
   "execution_count": 19,
   "id": "299f6d09",
   "metadata": {
    "ExecuteTime": {
     "end_time": "2023-04-13T13:51:32.824367Z",
     "start_time": "2023-04-13T13:51:32.820939Z"
    }
   },
   "outputs": [],
   "source": [
    "# Run when it is a certain players turn, lets the player choose which move to make depending on situation\n",
    "# Then calls the function for the given move\n",
    "\n",
    "def choose_move(bet_storage_list, stacks_list, in_play_list, check_list, player_index):\n",
    "    if bet_storage_list.count(0) == len(bet_storage_list):\n",
    "        move = input('What do you want to do? [Check] [Bet]').lower()\n",
    "        \n",
    "        if move == 'check':\n",
    "            print(f\"Player {player_index} checked\")\n",
    "            check(check_list, player_index)\n",
    "        elif move == 'bet':\n",
    "            bet(bet_storage_list, stacks_list, player_index)  \n",
    "    else:\n",
    "        move = input('What do you want to do? [Fold] [Call] [Raise]').lower()\n",
    "        \n",
    "        if move == 'fold':\n",
    "            fold_move(in_play_list, player_index)\n",
    "        elif move == 'call':\n",
    "            call_move(bet_storage_list, stacks_list, player_index)\n",
    "        elif move == 'raise':\n",
    "            raise_move(bet_storage_list, stacks_list, player_index)\n",
    "            \n",
    "    "
   ]
  },
  {
   "cell_type": "markdown",
   "id": "9a99fb5c",
   "metadata": {},
   "source": [
    "## Fold"
   ]
  },
  {
   "cell_type": "code",
   "execution_count": 20,
   "id": "a76cf017",
   "metadata": {
    "ExecuteTime": {
     "end_time": "2023-04-13T13:51:32.827737Z",
     "start_time": "2023-04-13T13:51:32.825542Z"
    }
   },
   "outputs": [],
   "source": [
    "#Runs when a player folds, sets in_play for the players index to 0 and returns in_play_list\n",
    "\n",
    "def fold_move(in_play_list, player_index):\n",
    "    in_play_list[player_index] = 0\n",
    "    return in_play_list"
   ]
  },
  {
   "cell_type": "markdown",
   "id": "95e07df7",
   "metadata": {},
   "source": [
    "## Raise_move"
   ]
  },
  {
   "cell_type": "code",
   "execution_count": 21,
   "id": "402822f0",
   "metadata": {
    "ExecuteTime": {
     "end_time": "2023-04-13T13:51:32.832685Z",
     "start_time": "2023-04-13T13:51:32.829084Z"
    }
   },
   "outputs": [],
   "source": [
    "# Calculates what the minimum allowed raise size is \n",
    "# Checks if the bet is over stack size \n",
    "# Updates stack and bet storage\n",
    "\n",
    "def raise_move(bet_storage_list, stacks_list, player_index):\n",
    "    \n",
    "    # bet storage copy\n",
    "    storage_copy = bet_storage_list.copy()\n",
    "    # Bet enough\n",
    "    first = max(storage_copy)\n",
    "    storage_copy.pop(storage_copy.index(first))\n",
    "    second = max(storage_copy)\n",
    "    \n",
    "    min_raise = (first - second) + first\n",
    "    # print(first, second, min_raise)\n",
    "\n",
    "    rais = int(input('What do you want to raise to? '))\n",
    "    \n",
    "    while rais > stacks_list[player_index] or rais < min_raise:\n",
    "        if rais > stacks_list[player_index]:\n",
    "            print(f\"You cant raise more than you have in your stack {stacks_list[player_index]}\")\n",
    "            rais = int(input('What do you want to raise? '))\n",
    "        elif rais < min_raise:\n",
    "            print(f\"The minimum raise is: {min_raise}\")\n",
    "            rais = int(input('What do you want to raise? '))\n",
    "    else:\n",
    "        stacks_list[player_index] -= rais\n",
    "    \n",
    "    bet_storage_list[player_index] += rais\n",
    "        \n",
    "    return bet_storage_list, stacks_list"
   ]
  },
  {
   "cell_type": "markdown",
   "id": "aa69de59",
   "metadata": {},
   "source": [
    "## Call"
   ]
  },
  {
   "cell_type": "code",
   "execution_count": 22,
   "id": "a0ac11b3",
   "metadata": {
    "ExecuteTime": {
     "end_time": "2023-04-13T13:51:32.836562Z",
     "start_time": "2023-04-13T13:51:32.834005Z"
    }
   },
   "outputs": [],
   "source": [
    "# Updates bet storage and stacks and determines the amount to call\n",
    "\n",
    "def call_move(bet_storage_list, stacks_list, player_index):\n",
    "    largest_bet = max(bet_storage_list)\n",
    "    to_call = largest_bet - bet_storage_list[player_index]\n",
    "    stacks_list[player_index] -= to_call\n",
    "    bet_storage_list[player_index] +=to_call\n",
    "    \n",
    "    \n",
    "    return bet_storage_list, stacks_list"
   ]
  },
  {
   "cell_type": "markdown",
   "id": "9f199806",
   "metadata": {},
   "source": [
    "## Flop, turn and river"
   ]
  },
  {
   "cell_type": "code",
   "execution_count": 23,
   "id": "77b43f7e",
   "metadata": {
    "ExecuteTime": {
     "end_time": "2023-04-13T13:51:32.839963Z",
     "start_time": "2023-04-13T13:51:32.837719Z"
    }
   },
   "outputs": [],
   "source": [
    "# Generates flop\n",
    "def deal_flop(deck):\n",
    "    return[deck.pop() for i in range(3)]"
   ]
  },
  {
   "cell_type": "code",
   "execution_count": 24,
   "id": "4a1bdff5",
   "metadata": {
    "ExecuteTime": {
     "end_time": "2023-04-13T13:51:32.842980Z",
     "start_time": "2023-04-13T13:51:32.840965Z"
    }
   },
   "outputs": [],
   "source": [
    "# generates turn\n",
    "def deal_turn(deck):\n",
    "    return [deck.pop()]"
   ]
  },
  {
   "cell_type": "code",
   "execution_count": 25,
   "id": "a5e67220",
   "metadata": {
    "ExecuteTime": {
     "end_time": "2023-04-13T13:51:32.845781Z",
     "start_time": "2023-04-13T13:51:32.843879Z"
    }
   },
   "outputs": [],
   "source": [
    "# generates river\n",
    "def river(deck):\n",
    "    return [deck.pop()]"
   ]
  },
  {
   "cell_type": "markdown",
   "id": "b81e93e0",
   "metadata": {},
   "source": [
    "## update_last_action"
   ]
  },
  {
   "cell_type": "code",
   "execution_count": 26,
   "id": "e7fcbd47",
   "metadata": {
    "ExecuteTime": {
     "end_time": "2023-04-13T13:51:32.849125Z",
     "start_time": "2023-04-13T13:51:32.846993Z"
    }
   },
   "outputs": [],
   "source": [
    "# Sets last_action on the dealer button, so the next round has to begin with moving last action to the one who has action\n",
    "def update_last_action(dealer_list, last_action_list):\n",
    "    last_action_list = [0 for i in range(len(last_action_list))]\n",
    "    last_action_list[dealer_list.index('D')] = 1\n",
    "    return last_action_list\n",
    "    "
   ]
  },
  {
   "cell_type": "markdown",
   "id": "8a019333",
   "metadata": {},
   "source": [
    "## Showdown"
   ]
  },
  {
   "cell_type": "code",
   "execution_count": 27,
   "id": "e0538331",
   "metadata": {
    "ExecuteTime": {
     "end_time": "2023-04-13T13:51:32.853115Z",
     "start_time": "2023-04-13T13:51:32.850194Z"
    }
   },
   "outputs": [],
   "source": [
    "def display_player_cards(player_cards_list, player_index):\n",
    "    cards = player_cards_list[player_index]\n",
    "    print(bcolors.OKGREEN + \"Player \" + str(player_index) + \"'s cards\" +bcolors.ENDC)\n",
    "    print('┌─────────┐  ┌─────────┐')\n",
    "    print(f\"│ {cards[0][0]}       │  │ {cards[1][0]}       │\")\n",
    "    print(f'│         │  │         │ ')\n",
    "    print(f'│         │  │         │ ')\n",
    "    print(f'│    {cards[0][1]}    │  │    {cards[0][1]}    │ ')\n",
    "    print(f'│         │  │         │ ')\n",
    "    print(f'│         │  │         │ ')\n",
    "    print(f'│       {cards[0][0]} │  │       {cards[0][0]} │ ')\n",
    "    print(f'└─────────┘  └─────────┘ ')\n",
    "    \n",
    "    "
   ]
  },
  {
   "cell_type": "code",
   "execution_count": 28,
   "id": "396470b7",
   "metadata": {
    "ExecuteTime": {
     "end_time": "2023-04-13T13:51:32.866209Z",
     "start_time": "2023-04-13T13:51:32.858094Z"
    }
   },
   "outputs": [],
   "source": [
    "def showdown(stacks_list, in_play_list, last_action_list, last_action_type_list, player_cards_list, check_list, player_index, dealer_list, board):\n",
    "    \n",
    "    ##Checking last raiser, then display their hand and set their hand strength\n",
    "    if 'raise' in last_action_type_list:\n",
    "        display_player_cards(player_cards_list, last_action_type_list.index('raise'))\n",
    "        poker_hand = hand_strength(player_cards_list[last_action_type_list.index('raise')], board)\n",
    "        print(f\"Player {last_action_type_list.index('raise')} has a {poker_hand}\")\n",
    "        poker_hand_strength = hand_strength_list.index(poker_hand)\n",
    "        \n",
    "        ##For the players after the first raiser, until the end of the list, comparing their handstrength\n",
    "        ##If the hand is better or equal, display their hand and update poker hand and poker hand strength\n",
    "        for index, player in enumerate(in_play_list[last_action_type_list.index('raise') + 1:]):\n",
    "            if player == 1 and hand_strength(player_cards_list[index], board) <= poker_hand_strength:\n",
    "                display_player_cards(player_cards_list, index)\n",
    "                poker_hand = hand_strength(player_cards_list[index], board)\n",
    "                print(f\"Player {index} has a {poker_hand}\")\n",
    "                poker_hand_strength = hand_strength_list.index(poker_hand)\n",
    "        \n",
    "        #Doing the same operation but from the beginning of the list until the last raiser\n",
    "        for index, player in enumerate(in_play_list[:last_action_type_list.index('raise')]):\n",
    "            if player == 1 and hand_strength(player_cards_list[index], board) <= poker_hand_strength:\n",
    "                display_player_cards(player_cards_list, index)\n",
    "                poker_hand = hand_strength(player_cards_list[index], board)\n",
    "                print(f\"Player {index} has a {poker_hand}\")\n",
    "                poker_hand_strength = hand_strength_list.index(poker_hand)\n",
    "        \n",
    "        \n",
    "    # if their was no raising the last round, performing the same operations but for the last bettor           \n",
    "    elif 'bet' in last_actiojn_type_list:\n",
    "        if 'bet' in last_action_type_list:\n",
    "            display_player_cards(player_cards_list, last_action_type_list.index('bet'))\n",
    "            poker_hand = hand_strength(player_cards_list[last_action_type_list.index('bet')], board)\n",
    "            print(f\"Player {last_action_type_list.index('bet')} has a {poker_hand}\")\n",
    "            poker_hand_strength = hand_strength_list.index(poker_hand)\n",
    "        \n",
    "        ##For the players after the first raiser, until the end of the list, comparing their handstrength\n",
    "        ##If the hand is better or equal, display their hand and update poker hand and poker hand strength\n",
    "        for index, player in enumerate(in_play_list[last_action_type_list.index('bet') + 1:]):\n",
    "            if player == 1 and hand_strength(player_cards_list[index], board) <= poker_hand_strength:\n",
    "                display_player_cards(player_cards_list, index)\n",
    "                poker_hand = hand_strength(player_cards_list[index], board)\n",
    "                print(f\"Player {index} has a {poker_hand}\")\n",
    "                poker_hand_strength = hand_strength_list.index(poker_hand)\n",
    "        \n",
    "        #Doing the same operation but from the beginning of the list until the last raiser\n",
    "        for index, player in enumerate(in_play_list[:last_action_type_list.index('bet')]):\n",
    "            if player == 1 and hand_strength(player_cards_list[index], board) <= poker_hand_strength:\n",
    "                display_player_cards(player_cards_list, index)\n",
    "                poker_hand = hand_strength(player_cards_list[index], board)\n",
    "                print(f\"Player {index} has a {poker_hand}\")\n",
    "                poker_hand_strength = hand_strength_list.index(poker_hand)\n",
    "    else:\n",
    "        display_player_cards(player_cards_list,dealer_list.index('D'))"
   ]
  },
  {
   "cell_type": "markdown",
   "id": "b19ff83f",
   "metadata": {},
   "source": [
    "## Hand strength"
   ]
  },
  {
   "cell_type": "code",
   "execution_count": 29,
   "id": "f58fc634",
   "metadata": {
    "ExecuteTime": {
     "end_time": "2023-04-13T13:51:32.870717Z",
     "start_time": "2023-04-13T13:51:32.867549Z"
    }
   },
   "outputs": [],
   "source": [
    "# THis is an idea of cleaner code but have not had time to make it work\n",
    "def hand_strength_clean(player_cards, board):\n",
    "    hand_strength_list = ['straight_flush', 'quads', 'full_house', 'flush', 'straight', 'trips', 'two_pair', 'pair']\n",
    "    for hand in hand_strength_list:\n",
    "        if eval(hand_strength_list[hand])(player_cards, board):\n",
    "            return eval(hand_strength_list[hand])(player_cards_list, board)\n",
    "            break\n",
    "            \n",
    "hand_strength_list = ['straight_flush', 'quads', 'full_house', 'flush', 'straight', 'trips', 'two_pair', 'pair']"
   ]
  },
  {
   "cell_type": "markdown",
   "id": "d32055d2",
   "metadata": {},
   "source": [
    "## card_conversion"
   ]
  },
  {
   "cell_type": "code",
   "execution_count": 30,
   "id": "62728aff",
   "metadata": {
    "ExecuteTime": {
     "end_time": "2023-04-13T13:51:32.874909Z",
     "start_time": "2023-04-13T13:51:32.872184Z"
    }
   },
   "outputs": [],
   "source": [
    "## THis is a functino for converting the value of a card to an integer, J = 11, Q=12, K=13 and A=14\n",
    "## To be able to have a striaght A-5 we need to more logic and an exception, which will be an add on\n",
    "\n",
    "\n",
    "def card_conversion(card):\n",
    "    if card[0] == 'A':\n",
    "        return 14\n",
    "    elif card[0] == 'K':\n",
    "        return 13\n",
    "    elif card[0] == 'Q':\n",
    "        return 12\n",
    "    elif card[0] == 'J':\n",
    "        return 11\n",
    "    elif card[0] == '1':\n",
    "        return 10\n",
    "    else:\n",
    "        return int(card[0])"
   ]
  },
  {
   "cell_type": "markdown",
   "id": "9f3c71b7",
   "metadata": {},
   "source": [
    "## Hand strength"
   ]
  },
  {
   "cell_type": "code",
   "execution_count": 31,
   "id": "175a6c79",
   "metadata": {
    "ExecuteTime": {
     "end_time": "2023-04-13T13:51:32.877535Z",
     "start_time": "2023-04-13T13:51:32.875930Z"
    }
   },
   "outputs": [],
   "source": [
    "##Hand Strength, the cell also contains all the functions for each type of hand"
   ]
  },
  {
   "cell_type": "code",
   "execution_count": 32,
   "id": "7b553428",
   "metadata": {
    "ExecuteTime": {
     "end_time": "2023-04-13T13:51:32.880736Z",
     "start_time": "2023-04-13T13:51:32.878701Z"
    }
   },
   "outputs": [],
   "source": [
    "def straight_sort(hand):\n",
    "    hand.sort(key = lambda x: x.split()[0])"
   ]
  },
  {
   "cell_type": "code",
   "execution_count": 33,
   "id": "5a4f5349",
   "metadata": {
    "ExecuteTime": {
     "end_time": "2023-04-13T13:51:32.892917Z",
     "start_time": "2023-04-13T13:51:32.881879Z"
    }
   },
   "outputs": [],
   "source": [
    "import itertools\n",
    "def straight_flush(player_cards, board):\n",
    "    cards = list(player_cards) + board\n",
    "    hands = list(itertools.combinations(cards, 5))\n",
    "    for hand in hands:\n",
    "        for card in hand:\n",
    "            if [card[-1] for card in hand].count(card[-1]) == 5\\\n",
    "            and len(set([card_conversion(card) for card in hand])) == 5\\\n",
    "            and max([card_conversion(card) for card in hand]) - min([card_conversion(card) for card in hand]):\n",
    "                return 'straight_flush'\n",
    "def quads(player_cards, board):\n",
    "    cards = list(player_cards) + board\n",
    "    hands = list(itertools.combinations(cards, 5))\n",
    "    for hand in hands:\n",
    "        for card in hand:\n",
    "            if [card[0] for card in hand].count(card[0]) == 4:\n",
    "                return 'quads'\n",
    "def flush(player_cards, board):\n",
    "    cards = list(player_cards) + board\n",
    "    hands = list(itertools.combinations(cards, 5))\n",
    "    for hand in hands:\n",
    "        for card in hand:\n",
    "            if [card[-1] for card in hand].count(card[-1]) == 5:\n",
    "                return 'flush'\n",
    "def full_house(player_cards, board):\n",
    "    cards = list(player_cards) + board\n",
    "    hands = list(itertools.combinations(cards, 7))\n",
    "    for hand in hands:\n",
    "        for card in hand:\n",
    "            if [card[0] for card in hand].count(card[0]) == 3:\n",
    "                a = card[0]\n",
    "                if len({card[0] for card in hand if card[0] != a}) < 4:\n",
    "                    return 'full_house'\n",
    "def straight(player_cards, board):\n",
    "    cards = list(player_cards) + board\n",
    "    hands = list(itertools.combinations(cards, 5))\n",
    "    for hand in hands:\n",
    "        if len(set([card_conversion(card) for card in hand])) == 5\\\n",
    "        and max([card_conversion(card) for card in hand]) - min([card_conversion(card) for card in hand]) == 4:\n",
    "            return 'straight'\n",
    "def trips_or_two_pair(player_cards, board):\n",
    "    cards = list(player_cards) + board\n",
    "    hands = list(itertools.combinations(cards, 5))\n",
    "    print(hands[0])\n",
    "    for hand in hands:\n",
    "        if len(set([(card_conversion(card)) for card in hand])) == 3:\n",
    "            longest_set = []\n",
    "            for card in [(card_conversion(card)) for card in hand]:\n",
    "                if [(card_conversion(card)) for card in hand].count(card) == 3:\n",
    "                    return 'trips'\n",
    "                elif [(card_conversion(card)) for card in hand].count(card) == 2:\n",
    "                    return 'two pair'\n",
    "def pair(player_cards, board):\n",
    "    cards = list(player_cards) + board\n",
    "    hands = list(itertools.combinations(cards, 5))\n",
    "    for hand in hands:\n",
    "        for card in hand:\n",
    "            if [card[0] for card in hand].count(card[0]) == 2:\n",
    "                return 'one pair'\n",
    "    return False\n",
    "def hand_strength(player_cards, board):\n",
    "    hand_strength_list = ['straight_flush', 'quads', 'full_house', 'flush', 'straight', 'trips','two pair', 'pair']\n",
    "    for hand in hand_strength_list:\n",
    "        if hand == 'straight_flush':\n",
    "            if straight_flush(player_cards, board):\n",
    "                return 'quads'\n",
    "        elif hand == 'quads':\n",
    "            if quads(player_cards, board):\n",
    "                return 'quads'\n",
    "        elif hand == 'full_house':\n",
    "            if full_house(player_cards, board):\n",
    "                return 'full_house'\n",
    "        elif hand == 'flush':\n",
    "            if flush(player_cards, board):\n",
    "                return 'flush'\n",
    "        elif hand == 'straight':\n",
    "            if straight(player_cards, board):\n",
    "                return 'straight'\n",
    "        elif hand == 'trips':\n",
    "            if trips_or_two_pair(player_cards, board) == 'trips':\n",
    "                return 'trips'\n",
    "            elif trips_or_two_pair(player_cards, board) == 'two pair':\n",
    "                return 'two pair'\n",
    "        elif hand == 'pair':\n",
    "            if pair(player_cards, board):\n",
    "                return 'pair'"
   ]
  },
  {
   "cell_type": "code",
   "execution_count": 34,
   "id": "68a3d8c7",
   "metadata": {
    "ExecuteTime": {
     "end_time": "2023-04-13T13:51:32.896101Z",
     "start_time": "2023-04-13T13:51:32.894110Z"
    }
   },
   "outputs": [],
   "source": [
    "board_test = ['9♦', '9♦', '9♥','9♠','A♠']"
   ]
  },
  {
   "cell_type": "code",
   "execution_count": 35,
   "id": "c6d4bfe9",
   "metadata": {
    "ExecuteTime": {
     "end_time": "2023-04-13T13:51:32.898895Z",
     "start_time": "2023-04-13T13:51:32.897265Z"
    }
   },
   "outputs": [],
   "source": [
    "straight_flush_test = ['9♦', '5♦', '7♦','6♠','A♠']"
   ]
  },
  {
   "cell_type": "code",
   "execution_count": 36,
   "id": "a6cfa2fa",
   "metadata": {
    "ExecuteTime": {
     "end_time": "2023-04-13T13:51:32.901506Z",
     "start_time": "2023-04-13T13:51:32.899855Z"
    }
   },
   "outputs": [],
   "source": [
    "quads_test = ['9♦', '9♦', '9♥','9♠','A♠']"
   ]
  },
  {
   "cell_type": "code",
   "execution_count": 37,
   "id": "01b66158",
   "metadata": {
    "ExecuteTime": {
     "end_time": "2023-04-13T13:51:32.904194Z",
     "start_time": "2023-04-13T13:51:32.902521Z"
    }
   },
   "outputs": [],
   "source": [
    "boat_test = ['9♦', '9♦', '9♥','J♠','A♠']"
   ]
  },
  {
   "cell_type": "code",
   "execution_count": 38,
   "id": "9c72e19f",
   "metadata": {
    "ExecuteTime": {
     "end_time": "2023-04-13T13:51:32.907362Z",
     "start_time": "2023-04-13T13:51:32.905326Z"
    }
   },
   "outputs": [],
   "source": [
    "trips_twopair_test = ['9♦', '9♦', 'J♥','J♠','A♠']"
   ]
  },
  {
   "cell_type": "code",
   "execution_count": 39,
   "id": "5ca080c7",
   "metadata": {
    "ExecuteTime": {
     "end_time": "2023-04-13T13:51:32.910210Z",
     "start_time": "2023-04-13T13:51:32.908372Z"
    }
   },
   "outputs": [],
   "source": [
    "hand_test = ['7♠', '8♦']"
   ]
  },
  {
   "cell_type": "code",
   "execution_count": 40,
   "id": "d170ce17",
   "metadata": {
    "ExecuteTime": {
     "end_time": "2023-04-13T13:51:32.914253Z",
     "start_time": "2023-04-13T13:51:32.911128Z"
    }
   },
   "outputs": [],
   "source": [
    "def straight_flush(player_cards, board):\n",
    "    cards = player_cards + board\n",
    "    hands = list(itertools.combinations(cards, 5))\n",
    "    for hand in hands:\n",
    "        for card in hand:\n",
    "            if [card[-1] for card in hand].count(card[-1]) == 5\\\n",
    "            and len(set([card_conversion(card) for card in hand])) == 5\\\n",
    "            and max([card_conversion(card) for card in hand]) - min([card_conversion(card) for card in hand]):\n",
    "                return 'straight_flush'\n",
    "    return False"
   ]
  },
  {
   "cell_type": "code",
   "execution_count": 41,
   "id": "ae778ff0",
   "metadata": {
    "ExecuteTime": {
     "end_time": "2023-04-13T13:51:32.917789Z",
     "start_time": "2023-04-13T13:51:32.915346Z"
    }
   },
   "outputs": [
    {
     "data": {
      "text/plain": [
       "False"
      ]
     },
     "execution_count": 41,
     "metadata": {},
     "output_type": "execute_result"
    }
   ],
   "source": [
    "straight_flush(hand_test, straight_flush_test)"
   ]
  },
  {
   "cell_type": "code",
   "execution_count": 42,
   "id": "0ae50c21",
   "metadata": {
    "ExecuteTime": {
     "end_time": "2023-04-13T13:51:32.921120Z",
     "start_time": "2023-04-13T13:51:32.918742Z"
    }
   },
   "outputs": [
    {
     "data": {
      "text/plain": [
       "'straight'"
      ]
     },
     "execution_count": 42,
     "metadata": {},
     "output_type": "execute_result"
    }
   ],
   "source": [
    "straight(hand_test, straight_flush_test)"
   ]
  },
  {
   "cell_type": "markdown",
   "id": "51854fc9",
   "metadata": {},
   "source": [
    "## Betting round"
   ]
  },
  {
   "cell_type": "code",
   "execution_count": 43,
   "id": "4951a45a",
   "metadata": {
    "ExecuteTime": {
     "end_time": "2023-04-13T13:51:32.925833Z",
     "start_time": "2023-04-13T13:51:32.922194Z"
    }
   },
   "outputs": [],
   "source": [
    "# Runs when there is a betting round, so once before flop, once after flop, once after turn and finally once after river\n",
    "# One iteration is for one player\n",
    "def betting_round(bet_storage_list, stacks_list, in_play_list, last_action_list, player_cards_list, check_list, player_index):\n",
    "    \n",
    "    while (set(bet_storage_list) == {0} or len({bet_storage_list[i] for i in [index for index, item in enumerate(in_play_list) if item == 1]}) > 1) \\\n",
    "    and in_play_list.count(1) != [check_list[i] for i in [index for index, item in enumerate(in_play_list) if item == 1]].count(1):\n",
    "        \n",
    "        ## Update last_player_list to current player\n",
    "        last_action_list = whose_turn(last_action_list)\n",
    "      \n",
    "\n",
    "#         ## Display card\n",
    "        player_index = last_action_list.index(1)\n",
    "        ## Checking if the player has not folded yet\n",
    "        if in_play_list[player_index] == 0:\n",
    "            continue\n",
    "        print(player_index)\n",
    "        a = display_hand(player_cards_list, player_index)\n",
    "        print(f'Player {player_index + 1} cards: {a}')\n",
    "\n",
    "        ## Choose move\n",
    "        choose_move(bet_storage_list, stacks_list, in_play_list, check_list, player_index)\n",
    "        \n",
    "        clear_output()\n",
    "        display_board(bet_storage_list, player_list, last_action_list.index(1), player_cards_list, stacks_list, last_action_list, flop)\n",
    "\n"
   ]
  },
  {
   "cell_type": "code",
   "execution_count": 44,
   "id": "05b20569",
   "metadata": {
    "ExecuteTime": {
     "end_time": "2023-04-13T13:51:32.930960Z",
     "start_time": "2023-04-13T13:51:32.926815Z"
    }
   },
   "outputs": [],
   "source": [
    "# Runs when there is a betting round, so once before flop, once after flop, once after turn and finally once after river\n",
    "# One iteration is for one player\n",
    "def betting_round_turn(bet_storage_list, stacks_list, in_play_list, last_action_list, player_cards_list, check_list, player_index):\n",
    "    \n",
    "    while (set(bet_storage_list) == {0} or len({bet_storage_list[i] for i in [index for index, item in enumerate(in_play_list) if item == 1]}) > 1) \\\n",
    "    and in_play_list.count(1) != [check_list[i] for i in [index for index, item in enumerate(in_play_list) if item == 1]].count(1):\n",
    "        \n",
    "        ## Update last_player_list to current player\n",
    "        last_action_list = whose_turn(last_action_list)\n",
    "      \n",
    "\n",
    "#         ## Display card\n",
    "        player_index = last_action_list.index(1)\n",
    "        ## Checking if the player has not folded yet\n",
    "        if in_play_list[player_index] == 0:\n",
    "            continue\n",
    "        print(player_index)\n",
    "        a = display_hand(player_cards_list, player_index)\n",
    "        print(f'Player {player_index} cards: {a}')\n",
    "\n",
    "        ## Choose move\n",
    "        choose_move(bet_storage_list, stacks_list, in_play_list, check_list, player_index)\n",
    "        \n",
    "        clear_output()\n",
    "        display_board_turn(pot, bet_storage_list, player_list, last_action_list.index(1), player_cards_list, stacks_list, last_action_list, flop, turn)\n",
    "\n"
   ]
  },
  {
   "cell_type": "code",
   "execution_count": 45,
   "id": "0edac202",
   "metadata": {
    "ExecuteTime": {
     "end_time": "2023-04-13T13:51:32.935862Z",
     "start_time": "2023-04-13T13:51:32.932059Z"
    }
   },
   "outputs": [],
   "source": [
    "# Runs when there is a betting round, so once before flop, once after flop, once after turn and finally once after river\n",
    "# One iteration is for one player\n",
    "def betting_round_river(bet_storage_list, stacks_list, in_play_list, last_action_list, player_cards_list, check_list, player_index):\n",
    "    \n",
    "    while (set(bet_storage_list) == {0} or len({bet_storage_list[i] for i in [index for index, item in enumerate(in_play_list) if item == 1]}) > 1) \\\n",
    "    and in_play_list.count(1) != [check_list[i] for i in [index for index, item in enumerate(in_play_list) if item == 1]].count(1):\n",
    "        \n",
    "        ## Update last_player_list to current player\n",
    "        last_action_list = whose_turn(last_action_list)\n",
    "      \n",
    "\n",
    "#         ## Display card\n",
    "        player_index = last_action_list.index(1)\n",
    "        ## Checking if the player has not folded yet\n",
    "        if in_play_list[player_index] == 0:\n",
    "            continue\n",
    "        print(player_index)\n",
    "        a = display_hand(player_cards_list, player_index)\n",
    "        print(f'Player {player_index} cards: {a}')\n",
    "\n",
    "        ## Choose move\n",
    "        choose_move(bet_storage_list, stacks_list, in_play_list, check_list, player_index)\n",
    "        \n",
    "        clear_output()\n",
    "        display_board_river(pot, bet_storage_list, player_list, last_action_list.index(1), player_cards_list, stacks_list, last_action_list, flop, turn, river)\n",
    "\n"
   ]
  },
  {
   "cell_type": "markdown",
   "id": "589aab69",
   "metadata": {},
   "source": [
    "## Main"
   ]
  },
  {
   "cell_type": "code",
   "execution_count": null,
   "id": "9ed919d8",
   "metadata": {},
   "outputs": [],
   "source": []
  },
  {
   "cell_type": "code",
   "execution_count": null,
   "id": "3f41e460",
   "metadata": {},
   "outputs": [],
   "source": []
  },
  {
   "cell_type": "code",
   "execution_count": null,
   "id": "6ff8874f",
   "metadata": {
    "ExecuteTime": {
     "start_time": "2023-04-13T14:39:19.580Z"
    }
   },
   "outputs": [
    {
     "name": "stdout",
     "output_type": "stream",
     "text": [
      "['D', 1, 2, 3]\n",
      "                            \u001b[94mPlayer 2's turn\u001b[0m\n",
      "    .──────────────────────────────────────────────────────────.\n",
      "   /                                                             \\ Player D (d)\n",
      "  /                                                        🂠 🂠    \\ 940 $\n",
      " /                                                                 \\\n",
      "│                        2♦  10♣  A♣ A♦                               \n",
      "│                                                                   │\n",
      "│                                                                   │\n",
      "│                                                                   │\n",
      "│                              Pot: 440.0                     🂠 🂠   │  Player 1 (1)\n",
      "│                                                                   │   740.0 $\n",
      "│                                                                   │\n",
      "│                                                                   │\n",
      "│                                                                   │\n",
      " \\                                                                 /\n",
      "  \\                                                         🂠 🂠   / Player 2 (0)\n",
      "   \\                                                              /   940 $\n",
      "    \\                                         🂠 🂠                / \n",
      "    •───────────────────────────────────────────────────────────•\n",
      "                                            Player 3 (0)               \n",
      "                                              (940) $       \n",
      "2\n"
     ]
    }
   ],
   "source": [
    "# print('Welcome to Texas hold em')\n",
    "from IPython.display import clear_output\n",
    "\n",
    "\n",
    "\n",
    "## Create last action list, to use later\n",
    "## Creating other necessary lists\n",
    "last_action_list = [0 for x in player_list]\n",
    "bet_storage_list = [0 for x in player_list]\n",
    "in_play_list = [1 for x in player_list]\n",
    "check_list = [0 for x in player_list]\n",
    "pot = 0\n",
    "hand_strength_list = ['straight_flush', 'quads', 'full_house', 'flush', 'straight', 'trips', 'pair']\n",
    "last_action_type_list = ['' for x in player_list]\n",
    "\n",
    "\n",
    "\n",
    "players = int(input('How many players? '))\n",
    "\n",
    "\n",
    "## Create stacks\n",
    "stacks_list = starting_stack(player_list)\n",
    "stacks_list\n",
    "\n",
    "## Return players\n",
    "player_list = create_players(players)\n",
    "while True:\n",
    "\n",
    "    ## Assigns the dealer button to player of index 0\n",
    "    dealer_list = deal_button(player_list, 0)\n",
    "\n",
    "    ## Creating shuffled deck\n",
    "    deck = create_shuffle_deck()\n",
    "\n",
    "\n",
    "    ## Ask for bet blind amount\n",
    "    # big_blind = int(input('What\\'s the big blind? '))\n",
    "    big_blind = 40\n",
    "    small_blind = big_blind / 2\n",
    "\n",
    "\n",
    "\n",
    "        \n",
    "    ## Deal cards\n",
    "    player_cards_list = deal_cards(deck, player_list)\n",
    "\n",
    "\n",
    "    ## Bet blind\n",
    "    bet_blind(dealer_list, stacks_list, small_blind, big_blind, bet_storage_list, last_action_list)\n",
    "\n",
    "    # The while loop checks if all the bets for the player that are in play are  not equal, or if all player in play have not checked\n",
    "    flop = [' ', ' ', ' ']\n",
    "    the_board = display_board(bet_storage_list, player_list, last_action_list.index(1), player_cards_list, stacks_list, last_action_list, flop, turn, river)\n",
    "    \n",
    "    ## Display card\n",
    "    player_index = last_action_list.index(1)\n",
    "    \n",
    "        \n",
    "    betting_round(bet_storage_list, stacks_list, in_play_list, last_action_list, player_cards_list, check_list, player_index)\n",
    "    \n",
    "\n",
    "    last_action_list = update_last_action(dealer_list, last_action_list)\n",
    "    \n",
    "    \n",
    "        \n",
    "    ## Update pot\n",
    "    pot += sum(bet_storage_list)\n",
    "    ## Reset bet_storage_list\n",
    "    bet_storage_list = [0 for x in player_list]\n",
    "    \n",
    "        \n",
    "    flop = deal_flop(deck)\n",
    "    print(player_list)\n",
    "    \n",
    "    the_board = display_board_flop(pot, bet_storage_list, player_list, last_action_list.index(1), player_cards_list, stacks_list, last_action_list, flop)\n",
    "\n",
    "    \n",
    "    \n",
    "    ## New betting round\n",
    "    betting_round_turn(bet_storage_list, stacks_list, in_play_list, last_action_list, player_cards_list, check_list, player_index)\n",
    "    last_action_list = update_last_action(dealer_list, last_action_list)\n",
    "\n",
    "    ## Update pot\n",
    "    pot += sum(bet_storage_list)\n",
    "\n",
    "    if in_play_list.count(1) < 2:\n",
    "        stacks_list[in_play_list.index(1)] += pot\n",
    "        continue\n",
    "        \n",
    "    ## Display turn\n",
    "    turn = deal_turn(deck)\n",
    "    print(f'Turn: {board}')\n",
    "\n",
    "    the_board = display_board_turn(pot, bet_storage_list, player_list, last_action_list.index(1), player_cards_list, stacks_list, last_action_list, flop, turn)\n",
    "\n",
    "    \n",
    "    ## New betting round\n",
    "    betting_round_river(bet_storage_list, stacks_list, in_play_list, last_action_list, player_cards_list, check_list, player_index)\n",
    "    last_action_list = update_last_action(dealer_list, last_action_list)\n",
    "\n",
    "    ## Update pot\n",
    "    pot += sum(bet_storage_list)\n",
    "\n",
    "    ## Reset bet_storage_list\n",
    "    bet_storage_list = [0 for x in player_list]\n",
    "\n",
    "    ## Display river\n",
    "    board += river(deck)\n",
    "    print(f'River: {board}')\n",
    "    \n",
    "    \n",
    "    the_board = display_board_river(pot, bet_storage_list, player_list, last_action_list.index(1), player_cards_list, stacks_list, last_action_list, flop, turn, river)\n",
    "\n",
    "\n",
    "    ## New betting round\n",
    "    betting_round(bet_storage_list, stacks_list, in_play_list, last_action_list, player_cards_list, check_list, player_index)\n",
    "    last_action_list = update_last_action(dealer_list, last_action_list)\n",
    "\n",
    "    ## Update pot\n",
    "    pot += sum(bet_storage_list)\n",
    "\n",
    "    ## Reset bet_storage_list\n",
    "    bet_storage_list = [0 for x in player_list]\\\n",
    "\n",
    "    ## Showdown (The one being called shows first, then in order. The winner adds the pot to their stack)\n",
    "    showdown(bet_storage_list, stacks_list, in_play_list, last_action_list, last_action_type_list, player_cards_list, check_list, player_index)\n",
    "\n"
   ]
  },
  {
   "cell_type": "code",
   "execution_count": null,
   "id": "088cdab4",
   "metadata": {},
   "outputs": [],
   "source": []
  },
  {
   "cell_type": "code",
   "execution_count": null,
   "id": "c3ce69d8",
   "metadata": {},
   "outputs": [],
   "source": []
  },
  {
   "cell_type": "code",
   "execution_count": null,
   "id": "6ec3cc0d",
   "metadata": {},
   "outputs": [],
   "source": []
  },
  {
   "cell_type": "code",
   "execution_count": null,
   "id": "0b4d8854",
   "metadata": {},
   "outputs": [],
   "source": []
  },
  {
   "cell_type": "code",
   "execution_count": null,
   "id": "11fd065c",
   "metadata": {},
   "outputs": [],
   "source": []
  },
  {
   "cell_type": "code",
   "execution_count": null,
   "id": "a69d8839",
   "metadata": {},
   "outputs": [],
   "source": []
  },
  {
   "cell_type": "code",
   "execution_count": null,
   "id": "5352de7f",
   "metadata": {},
   "outputs": [],
   "source": []
  }
 ],
 "metadata": {
  "kernelspec": {
   "display_name": "Python 3 (ipykernel)",
   "language": "python",
   "name": "python3"
  },
  "language_info": {
   "codemirror_mode": {
    "name": "ipython",
    "version": 3
   },
   "file_extension": ".py",
   "mimetype": "text/x-python",
   "name": "python",
   "nbconvert_exporter": "python",
   "pygments_lexer": "ipython3",
   "version": "3.9.13"
  },
  "toc": {
   "base_numbering": 1,
   "nav_menu": {
    "height": "309px",
    "width": "255px"
   },
   "number_sections": true,
   "sideBar": true,
   "skip_h1_title": false,
   "title_cell": "Table of Contents",
   "title_sidebar": "Contents",
   "toc_cell": false,
   "toc_position": {
    "height": "calc(100% - 180px)",
    "left": "10px",
    "top": "150px",
    "width": "291.6px"
   },
   "toc_section_display": true,
   "toc_window_display": false
  }
 },
 "nbformat": 4,
 "nbformat_minor": 5
}
