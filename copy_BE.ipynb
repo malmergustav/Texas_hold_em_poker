{
 "cells": [
  {
   "cell_type": "markdown",
   "id": "192de8a5",
   "metadata": {},
   "source": [
    "## Global variables"
   ]
  },
  {
   "cell_type": "markdown",
   "id": "9353c081",
   "metadata": {
    "ExecuteTime": {
     "end_time": "2023-04-11T15:00:05.084267Z",
     "start_time": "2023-04-11T15:00:05.004380Z"
    }
   },
   "source": [
    "player_list = []\n",
    "button #deal button\n",
    "shuffled_deck\n",
    "last_move\n",
    "dealt_cards\n",
    "stack\n",
    "pot\n",
    "bet_storage\n",
    "last_action\n",
    "in_play "
   ]
  },
  {
   "cell_type": "markdown",
   "id": "26f632d0",
   "metadata": {},
   "source": [
    "## Create players"
   ]
  },
  {
   "cell_type": "code",
   "execution_count": 19,
   "id": "6fedba06",
   "metadata": {
    "ExecuteTime": {
     "end_time": "2023-04-12T07:12:49.486106Z",
     "start_time": "2023-04-12T07:12:49.477053Z"
    }
   },
   "outputs": [],
   "source": [
    "# Creates a list of players, with the length matching the number of players in the game\n",
    "\n",
    "def create_players(playernum):\n",
    "    players = [player for player in range(playernum)]\n",
    "    \n",
    "    return players"
   ]
  },
  {
   "cell_type": "markdown",
   "id": "1ce807ee",
   "metadata": {},
   "source": [
    "## Display board"
   ]
  },
  {
   "cell_type": "code",
   "execution_count": 1,
   "id": "5eec3576",
   "metadata": {},
   "outputs": [
    {
     "data": {
      "text/plain": [
       "'Hello'"
      ]
     },
     "execution_count": 1,
     "metadata": {},
     "output_type": "execute_result"
    }
   ],
   "source": [
    "\"Hello\""
   ]
  },
  {
   "cell_type": "markdown",
   "id": "5256f2c1",
   "metadata": {},
   "source": [
    "## Deal button"
   ]
  },
  {
   "cell_type": "code",
   "execution_count": 22,
   "id": "695fdabd",
   "metadata": {
    "ExecuteTime": {
     "end_time": "2023-04-12T07:14:14.864739Z",
     "start_time": "2023-04-12T07:14:14.856471Z"
    }
   },
   "outputs": [],
   "source": [
    "# Sets a position of the dealer button\n",
    "\n",
    "def deal_button(players, player_index):\n",
    "    \n",
    "    players[player_index] = 'D'\n",
    "    \n",
    "    return players"
   ]
  },
  {
   "cell_type": "markdown",
   "id": "bdba0d34",
   "metadata": {},
   "source": [
    "## Create shuffle deck"
   ]
  },
  {
   "cell_type": "code",
   "execution_count": 23,
   "id": "f5b6e0af",
   "metadata": {
    "ExecuteTime": {
     "end_time": "2023-04-12T07:36:18.196482Z",
     "start_time": "2023-04-12T07:36:18.185489Z"
    }
   },
   "outputs": [],
   "source": [
    "import random\n",
    "# Creates a shuffled deck fo 52 cards from which we will pop when we deal out cards\n",
    "def create_shuffle_deck():\n",
    "    # Map card to number\n",
    "    cards = ['A', '2', '3', '4', '5', '6', '7', '8', '9', '10', 'J', 'Q', 'K']\n",
    "    suits = [\"\\u2663\", \"\\u2665\", \"\\u2666\", \"\\u2660\"]\n",
    "    \n",
    "    deck = [(card + suit) for card in cards for suit in suits]\n",
    "    # Shuffle deck    \n",
    "    \n",
    "    random.shuffle(deck)\n",
    "#     print(deck)\n",
    "    \n",
    "    return deck"
   ]
  },
  {
   "cell_type": "markdown",
   "id": "c3214e91",
   "metadata": {},
   "source": [
    "## Stack for each player"
   ]
  },
  {
   "cell_type": "code",
   "execution_count": 24,
   "id": "a161003d",
   "metadata": {
    "ExecuteTime": {
     "end_time": "2023-04-12T07:19:11.928739Z",
     "start_time": "2023-04-12T07:19:11.918768Z"
    }
   },
   "outputs": [],
   "source": [
    "# Sets the starting stack for each player\n",
    "def starting_stack(players):\n",
    "    starting_stack = int(input('What should the starting stack be? '))\n",
    "    stacks = [starting_stack for i in players]\n",
    "    return stacks"
   ]
  },
  {
   "cell_type": "markdown",
   "id": "d577daf5",
   "metadata": {},
   "source": [
    "## Deal cards"
   ]
  },
  {
   "cell_type": "code",
   "execution_count": 25,
   "id": "0026a19b",
   "metadata": {
    "ExecuteTime": {
     "end_time": "2023-04-12T07:35:37.054884Z",
     "start_time": "2023-04-12T07:35:37.039812Z"
    }
   },
   "outputs": [],
   "source": [
    "# Creates a list of tuples where each tuple contains two cards for each player, being their hand\n",
    "def deal_cards(deck, players):\n",
    "    enum = enumerate(players)\n",
    "    lst = []\n",
    "    for player in enum:\n",
    "        card1 = deck.pop()\n",
    "        card2 = deck.pop()\n",
    "        lst.append((card1, card2))\n",
    "        \n",
    "    return lst"
   ]
  },
  {
   "cell_type": "markdown",
   "id": "d38c2b53",
   "metadata": {},
   "source": [
    "## Bet"
   ]
  },
  {
   "cell_type": "code",
   "execution_count": 26,
   "id": "81660d71",
   "metadata": {
    "ExecuteTime": {
     "end_time": "2023-04-12T10:12:41.895886Z",
     "start_time": "2023-04-12T10:12:41.884205Z"
    }
   },
   "outputs": [],
   "source": [
    "# This function is run when a player bets\n",
    "# It updates the stack of the player, checks so the bet amount is valid and updates the bet_storage list\n",
    "def bet(bet_storage_list, stacks_list, player_index):\n",
    "    \n",
    "    bet = int(input('What do you want to bet? '))\n",
    "    while bet > stacks_list[player_index]:\n",
    "        print(\"You cant bet more than you have in your stack\")\n",
    "        bet = int(input('What do you want to bet? '))\n",
    "    else:\n",
    "        stacks_list[player_index] -= bet\n",
    "        bet_storage_list[player_index] += bet\n",
    "        \n",
    "    return bet_storage_list, stacks_list"
   ]
  },
  {
   "cell_type": "markdown",
   "id": "3c9234f7",
   "metadata": {},
   "source": [
    "## Bet blind"
   ]
  },
  {
   "cell_type": "code",
   "execution_count": 27,
   "id": "f685a6ba",
   "metadata": {
    "ExecuteTime": {
     "end_time": "2023-04-12T09:36:22.697057Z",
     "start_time": "2023-04-12T09:36:22.684965Z"
    }
   },
   "outputs": [],
   "source": [
    "# This automatically puts in the blinds, updates the stacks of each player as well as bet storage and last_action\n",
    "def bet_blind (button, stacks, small_blind, big_blind, bet_storage, last_action):\n",
    "    for index, stack in enumerate(stacks):\n",
    "        if button.index('D') + 1 == index:\n",
    "            stack -= small_blind\n",
    "            stacks[index] = stack\n",
    "            bet_storage[index] = small_blind\n",
    "        elif button.index('D') + 2 == index:\n",
    "            stack -= int(big_blind)\n",
    "            stacks[index] = stack\n",
    "            bet_storage[index] = big_blind\n",
    "            last_action[index] = 1\n",
    "            \n",
    "    return (stacks, bet_storage, last_action)"
   ]
  },
  {
   "cell_type": "markdown",
   "id": "944a6b8b",
   "metadata": {},
   "source": [
    "## Whose turn"
   ]
  },
  {
   "cell_type": "code",
   "execution_count": 28,
   "id": "9b59e913",
   "metadata": {
    "ExecuteTime": {
     "end_time": "2023-04-12T08:40:30.783343Z",
     "start_time": "2023-04-12T08:40:30.774823Z"
    }
   },
   "outputs": [],
   "source": [
    "def whose_turn(last_action_list):   #Return a list where the turn has moved one to the right, need to assign to variable\n",
    "    copy = last_action_list.copy()\n",
    "    copy[(last_action_list.index(1) + 1) % (len(last_action_list))] = 1\n",
    "    copy[last_action_list.index(1)] = 0\n",
    "    return copy"
   ]
  },
  {
   "cell_type": "markdown",
   "id": "21470550",
   "metadata": {},
   "source": [
    "## Display hand"
   ]
  },
  {
   "cell_type": "code",
   "execution_count": 417,
   "id": "ea815926",
   "metadata": {
    "ExecuteTime": {
     "end_time": "2023-04-12T10:40:53.775214Z",
     "start_time": "2023-04-12T10:40:53.763158Z"
    }
   },
   "outputs": [],
   "source": [
    "# Lets the player choose if they want to see their hand or not, applicable depending on FE\n",
    "def display_hand(player_cards_list, player_index):\n",
    "    choice = input('\"y\" for display hand, \"n\" to skip').lower()\n",
    "    if choice == 'y':\n",
    "        return player_cards_list[player_index]"
   ]
  },
  {
   "cell_type": "markdown",
   "id": "12131777",
   "metadata": {},
   "source": [
    "## Check"
   ]
  },
  {
   "cell_type": "code",
   "execution_count": 30,
   "id": "909a6a72",
   "metadata": {
    "ExecuteTime": {
     "end_time": "2023-04-12T09:32:25.427070Z",
     "start_time": "2023-04-12T09:32:25.417982Z"
    }
   },
   "outputs": [],
   "source": [
    "# Should run when a player checks, updates check_list\n",
    "def check(check_list, player_index):\n",
    "    check_list[player_index] = 1\n",
    "    return check_list"
   ]
  },
  {
   "cell_type": "markdown",
   "id": "70a27b10",
   "metadata": {},
   "source": [
    "## Choose move"
   ]
  },
  {
   "cell_type": "code",
   "execution_count": 495,
   "id": "299f6d09",
   "metadata": {
    "ExecuteTime": {
     "end_time": "2023-04-12T10:45:08.924766Z",
     "start_time": "2023-04-12T10:45:08.909916Z"
    }
   },
   "outputs": [],
   "source": [
    "# Run when it is a certain players turn, lets the player choose which move to make depending on situation\n",
    "# Then calls the function for the given move\n",
    "\n",
    "def choose_move(bet_storage_list, stacks_list, in_play_list, check_list, player_index, last_action_type_list):\n",
    "    if bet_storage_list.count(0) == len(bet_storage_list):\n",
    "        move = input('What do you want to do? [Check] [Bet]').lower()\n",
    "        \n",
    "        if move == 'check':\n",
    "            print(f\"Player {player_index} checked\")\n",
    "            check(check_list, player_index)\n",
    "            last_action_type_list[player_index] = 'check'\n",
    "        elif move == 'bet':\n",
    "            bet(bet_storage_list, stacks_list, player_index)\n",
    "            last_action_type_list[player_index] = 'bet'\n",
    "    else:\n",
    "        move = input('What do you want to do? [Fold] [Call] [Raise]').lower()\n",
    "        \n",
    "        if move == 'fold':\n",
    "            fold_move(in_play_list, player_index)\n",
    "            last_action_type_list[player_index] = 'fold'\n",
    "        elif move == 'call':\n",
    "            call_move(bet_storage_list, stacks_list, player_index)\n",
    "            last_action_type_list[player_index] = 'call'\n",
    "        elif move == 'raise':\n",
    "            raise_move(bet_storage_list, stacks_list, player_index)\n",
    "            last_action_type_list[player_index] = 'raise'\n",
    "            \n",
    "    "
   ]
  },
  {
   "cell_type": "markdown",
   "id": "9a99fb5c",
   "metadata": {},
   "source": [
    "## Fold"
   ]
  },
  {
   "cell_type": "code",
   "execution_count": 32,
   "id": "a76cf017",
   "metadata": {
    "ExecuteTime": {
     "end_time": "2023-04-12T08:09:05.240083Z",
     "start_time": "2023-04-12T08:09:05.231998Z"
    }
   },
   "outputs": [],
   "source": [
    "#Runs when a player folds, sets in_play for the players index to 0 and returns in_play_list\n",
    "\n",
    "def fold_move(in_play_list, player_index):\n",
    "    in_play_list[player_index] = 0\n",
    "    return in_play_list"
   ]
  },
  {
   "cell_type": "markdown",
   "id": "95e07df7",
   "metadata": {},
   "source": [
    "## Raise_move"
   ]
  },
  {
   "cell_type": "code",
   "execution_count": 33,
   "id": "402822f0",
   "metadata": {
    "ExecuteTime": {
     "end_time": "2023-04-12T08:11:10.399162Z",
     "start_time": "2023-04-12T08:11:10.385561Z"
    }
   },
   "outputs": [],
   "source": [
    "# Calculates what the minimum allowed raise size is \n",
    "# Checks if the bet is over stack size \n",
    "# Updates stack and bet storage\n",
    "\n",
    "def raise_move(bet_storage_list, stacks_list, player_index):\n",
    "    \n",
    "    # bet storage copy\n",
    "    storage_copy = bet_storage_list.copy()\n",
    "    # Bet enough\n",
    "    first = max(storage_copy)\n",
    "    storage_copy.pop(storage_copy.index(first))\n",
    "    second = max(storage_copy)\n",
    "    \n",
    "    min_raise = (first - second) + first\n",
    "    # print(first, second, min_raise)\n",
    "\n",
    "    rais = int(input('What do you want to raise to? '))\n",
    "    \n",
    "    while rais > stacks_list[player_index] or rais < min_raise:\n",
    "        if rais > stacks_list[player_index]:\n",
    "            print(f\"You cant raise more than you have in your stack {stacks_list[player_index]}\")\n",
    "            rais = int(input('What do you want to raise? '))\n",
    "        elif rais < min_raise:\n",
    "            print(f\"The minimum raise is: {min_raise}\")\n",
    "            rais = int(input('What do you want to raise? '))\n",
    "    else:\n",
    "        stacks_list[player_index] -= rais\n",
    "    \n",
    "    bet_storage_list[player_index] += rais\n",
    "        \n",
    "    return bet_storage_list, stacks_list"
   ]
  },
  {
   "cell_type": "markdown",
   "id": "aa69de59",
   "metadata": {},
   "source": [
    "## Call"
   ]
  },
  {
   "cell_type": "code",
   "execution_count": 34,
   "id": "a0ac11b3",
   "metadata": {
    "ExecuteTime": {
     "end_time": "2023-04-12T08:09:08.184203Z",
     "start_time": "2023-04-12T08:09:08.172003Z"
    }
   },
   "outputs": [],
   "source": [
    "# Updates bet storage and stacks and determines the amount to call\n",
    "\n",
    "def call_move(bet_storage_list, stacks_list, player_index):\n",
    "    largest_bet = max(bet_storage_list)\n",
    "    to_call = largest_bet - bet_storage_list[player_index]\n",
    "    stacks_list[player_index] -= to_call\n",
    "    bet_storage_list[player_index] +=to_call\n",
    "    \n",
    "    \n",
    "    return bet_storage_list, stacks_list"
   ]
  },
  {
   "cell_type": "markdown",
   "id": "9f199806",
   "metadata": {},
   "source": [
    "## Flop, turn and river"
   ]
  },
  {
   "cell_type": "code",
   "execution_count": 35,
   "id": "77b43f7e",
   "metadata": {
    "ExecuteTime": {
     "end_time": "2023-04-12T10:21:32.280684Z",
     "start_time": "2023-04-12T10:21:32.272483Z"
    }
   },
   "outputs": [],
   "source": [
    "# Generates flop\n",
    "def flop(deck):\n",
    "    return[deck.pop() for i in range(3)]"
   ]
  },
  {
   "cell_type": "code",
   "execution_count": 36,
   "id": "4a1bdff5",
   "metadata": {
    "ExecuteTime": {
     "end_time": "2023-04-12T10:21:32.449631Z",
     "start_time": "2023-04-12T10:21:32.440712Z"
    }
   },
   "outputs": [],
   "source": [
    "# generates turn\n",
    "def turn(deck):\n",
    "    return [deck.pop()]"
   ]
  },
  {
   "cell_type": "code",
   "execution_count": 37,
   "id": "a5e67220",
   "metadata": {
    "ExecuteTime": {
     "end_time": "2023-04-12T10:21:32.618162Z",
     "start_time": "2023-04-12T10:21:32.610075Z"
    }
   },
   "outputs": [],
   "source": [
    "# generates river\n",
    "def river(deck):\n",
    "    return [deck.pop()]"
   ]
  },
  {
   "cell_type": "markdown",
   "id": "803ba0a2",
   "metadata": {},
   "source": [
    "## update_last_action"
   ]
  },
  {
   "cell_type": "code",
   "execution_count": 92,
   "id": "0ac1b813",
   "metadata": {},
   "outputs": [],
   "source": [
    "# Sets last_action on the dealer button, so the next round has to begin with moving last action to the one who has action\n",
    "def update_last_action(dealer_list, last_action_list):\n",
    "    last_action_list = [0 for i in range(len(last_action_list))]\n",
    "    last_action_list[dealer_list.index('D')] = 1\n",
    "    return last_action_list\n",
    "    "
   ]
  },
  {
   "cell_type": "code",
   "execution_count": 98,
   "id": "17c1ea33",
   "metadata": {},
   "outputs": [
    {
     "name": "stdout",
     "output_type": "stream",
     "text": [
      "['D', 1, 2, 3]\n",
      "[0, 0, 1, 0]\n"
     ]
    }
   ],
   "source": [
    "print(dealer_list)\n",
    "print(last_action_list)"
   ]
  },
  {
   "cell_type": "code",
   "execution_count": 100,
   "id": "c327f98f",
   "metadata": {},
   "outputs": [
    {
     "data": {
      "text/plain": [
       "[1, 0, 0, 0]"
      ]
     },
     "execution_count": 100,
     "metadata": {},
     "output_type": "execute_result"
    }
   ],
   "source": [
    "last_action_list = update_last_action(dealer_list, last_action_list)\n",
    "last_action_list"
   ]
  },
  {
   "cell_type": "markdown",
   "id": "8a019333",
   "metadata": {
    "heading_collapsed": true
   },
   "source": [
    "## Showdown"
   ]
  },
  {
   "cell_type": "code",
   "execution_count": 421,
   "id": "fcc47b45",
   "metadata": {},
   "outputs": [],
   "source": [
    "def display_player_cards(player_cards_list, player_index):\n",
    "\tcards = player_cards_list[player_index]\n",
    "\n",
    "\tcards = [\n",
    "    \t[' ┌─────────┐  ┌─────────┐'],\n",
    "    \t[' │ '+ cards[0][0]+'   \t│  │ '+cards[1][0]+'   \t│'],\n",
    "    \t[' │     \t│  │     \t│'],\n",
    "    \t[' │     \t│  │     \t│'],\n",
    "    \t[' │\t'+cards[0][1]+'\t│  │\t'+cards[0][1]+'\t│'],\n",
    "    \t[' │     \t│  │     \t│'],\n",
    "    \t[' │     \t│  │     \t│'],\n",
    "    \t[' │   \t'+cards[0][0]+' │  │   \t'+cards[1][0]+' │'],\n",
    "    \t[' └─────────┘  └─────────┘']\n",
    "\t]\n",
    "\treturn cards\n"
   ]
  },
  {
   "cell_type": "code",
   "execution_count": null,
   "id": "9d5eb7c4",
   "metadata": {
    "hidden": true
   },
   "outputs": [],
   "source": [
    "def showdown(stacks_list, in_play_list, last_action_list, last_action_type_list, player_cards_list, check_list, player_index, dealer_list, board, pot):\n",
    "    win_list = [0 for i in in_play_list] ##Creating a list where all the winner of the pot are set to one\n",
    "    ##Checking last raiser, then display their hand and set their hand strength\n",
    "    if 'raise' in last_action_type_list:\n",
    "        display_player_cards(player_cards_list, last_action_type_list.index('raise'))\n",
    "        poker_hand = hand_strength(player_cards_list[last_action_type_list.index('raise')], board)\n",
    "        print(f\"Player {last_action_type_list.index('raise')} has a {poker_hand}\")\n",
    "        poker_hand_strength = hand_strength_list.index(poker_hand)\n",
    "        \n",
    "        ##For the players after the first raiser, until the end of the list, comparing their handstrength\n",
    "        ##If the hand is better or equal, display their hand and update poker hand and poker hand strength\n",
    "        for index, player in enumerate(in_play_list[last_action_type_list.index('raise') + 1:]):\n",
    "            if player == 1 and hand_strength(player_cards_list[index], board) <= poker_hand_strength:\n",
    "                display_player_cards(player_cards_list, index)\n",
    "                poker_hand = hand_strength(player_cards_list[index], board)\n",
    "                print(f\"Player {index} has a {poker_hand}\")\n",
    "                poker_hand_strength = hand_strength_list.index(poker_hand)\n",
    "        \n",
    "        #Doing the same operation but from the beginning of the list until the last raiser\n",
    "        for index, player in enumerate(in_play_list[:last_action_type_list.index('raise')]):\n",
    "            if player == 1 and hand_strength(player_cards_list[index], board) <= poker_hand_strength:\n",
    "                display_player_cards(player_cards_list, index)\n",
    "                poker_hand = hand_strength(player_cards_list[index], board)\n",
    "                print(f\"Player {index} has a {poker_hand}\")\n",
    "                poker_hand_strength = hand_strength_list.index(poker_hand)\n",
    "        \n",
    "        \n",
    "    # if their was no raising the last round, performing the same operations but for the last bettor           \n",
    "    elif 'bet' in last_actiojn_type_list:\n",
    "        if 'bet' in last_action_type_list:\n",
    "            display_player_cards(player_cards_list, last_action_type_list.index('bet'))\n",
    "            poker_hand = hand_strength(player_cards_list[last_action_type_list.index('bet')], board)\n",
    "            print(f\"Player {last_action_type_list.index('bet')} has a {poker_hand}\")\n",
    "            poker_hand_strength = hand_strength_list.index(poker_hand)\n",
    "        \n",
    "        ##For the players after the first raiser, until the end of the list, comparing their handstrength\n",
    "        ##If the hand is better or equal, display their hand and update poker hand and poker hand strength\n",
    "        for index, player in enumerate(in_play_list[last_action_type_list.index('bet') + 1:]):\n",
    "            if player == 1 and hand_strength(player_cards_list[index], board) <= poker_hand_strength:\n",
    "                display_player_cards(player_cards_list, index)\n",
    "                poker_hand = hand_strength(player_cards_list[index], board)\n",
    "                print(f\"Player {index} has a {poker_hand}\")\n",
    "                poker_hand_strength = hand_strength_list.index(poker_hand)\n",
    "        \n",
    "        #Doing the same operation but from the beginning of the list until the last raiser\n",
    "        for index, player in enumerate(in_play_list[:last_action_type_list.index('bet')]):\n",
    "            if player == 1 and hand_strength(player_cards_list[index], board) <= poker_hand_strength:\n",
    "                display_player_cards(player_cards_list, index)\n",
    "                poker_hand = hand_strength(player_cards_list[index], board)\n",
    "                print(f\"Player {index} has a {poker_hand}\")\n",
    "                poker_hand_strength = hand_strength_list.index(poker_hand)\n",
    "    \n",
    "    #Only executing the esle statement if noone raised or bet, which means the betting storage will be empty\n",
    "    else:\n",
    "        best_hand = 10\n",
    "        for index, player in enumerate(in_play_list[dealer_list.index('D')]):\n",
    "             if player:\n",
    "                    if hand_strength(player_cards_list[index], board) <= best_hand:\n",
    "                        if hand_strength(player_cards_list[index], board) < best_hand: #Checking if the hand is the only best\n",
    "                            win_list = [0 for i in win_list]\n",
    "                            win_list[index] = player\n",
    "                        best_hand = hand_strength(player_cards_list[index], board)\n",
    "                        display_player_cards(player_cards_list, index)\n",
    "                        win_list[index] = player\n",
    "                       \n",
    "                        \n",
    "    \n",
    "    #Giving the pot to the winner(s) through checking if their value in win_list is 1\n",
    "    for index, player in enumerate(win_list):\n",
    "        amount_won = pot / (win_list.count(1))\n",
    "        if player:\n",
    "            stacks_list[index] += amount_won\n",
    "    \n",
    "                        "
   ]
  },
  {
   "cell_type": "markdown",
   "id": "b19ff83f",
   "metadata": {},
   "source": [
    "## Hand strength"
   ]
  },
  {
   "cell_type": "code",
   "execution_count": 130,
   "id": "4eb3cee2",
   "metadata": {},
   "outputs": [],
   "source": [
    "# THis is an idea of cleaner code but have not had time to make it work\n",
    "def hand_strength_clean(player_cards, board):\n",
    "    hand_strength_list = ['straight_flush', 'quads', 'full_house', 'flush', 'straight', 'trips', 'two_pair', 'pair']\n",
    "    for hand in hand_strength_list:\n",
    "        if eval(hand_strength_list[hand])(player_cards, board):\n",
    "            return eval(hand_strength_list[hand])(player_cards_list, board)\n",
    "            break\n",
    "            \n",
    "hand_strength_list = ['straight_flush', 'quads', 'full_house', 'flush', 'straight', 'trips', 'two_pair', 'pair']"
   ]
  },
  {
   "cell_type": "markdown",
   "id": "7f4c0b08",
   "metadata": {},
   "source": [
    "## card_conversion"
   ]
  },
  {
   "cell_type": "code",
   "execution_count": 498,
   "id": "237cca19",
   "metadata": {},
   "outputs": [],
   "source": [
    "## THis is a functino for converting the value of a card to an integer, J = 11, Q=12, K=13 and A=14\n",
    "## To be able to have a striaght A-5 we need to more logic and an exception, which will be an add on\n",
    "\n",
    "\n",
    "def card_conversion(card):\n",
    "    if card[0] == 'A':\n",
    "        return 14\n",
    "    elif card[0] == 'K':\n",
    "        return 13\n",
    "    elif card[0] == 'Q':\n",
    "        return 12\n",
    "    elif card[0] == 'J':\n",
    "        return 11\n",
    "    elif card[0] == '1':\n",
    "        return 10\n",
    "    else:\n",
    "        return int(card[0])"
   ]
  },
  {
   "cell_type": "markdown",
   "id": "4cf7ffe5",
   "metadata": {},
   "source": [
    "## Hand strength"
   ]
  },
  {
   "cell_type": "code",
   "execution_count": null,
   "id": "307dede1",
   "metadata": {},
   "outputs": [],
   "source": [
    "##Hand Strength, the cell also contains all the functions for each type of hand"
   ]
  },
  {
   "cell_type": "code",
   "execution_count": 398,
   "id": "676e28e8",
   "metadata": {},
   "outputs": [],
   "source": [
    "def straight_sort(hand):\n",
    "    hand.sort(key = lambda x: x.split()[0])"
   ]
  },
  {
   "cell_type": "code",
   "execution_count": 520,
   "id": "f72dd5a6",
   "metadata": {},
   "outputs": [],
   "source": [
    "import itertools\n",
    "\n",
    "def straight_flush(player_cards, board):\n",
    "    cards = list(player_cards) + board\n",
    "    hands = list(itertools.combinations(cards, 5))\n",
    "    for hand in hands:\n",
    "        for card in hand:\n",
    "            if [card[-1] for card in hand].count(card[-1]) == 5\\\n",
    "            and len(set([card_conversion(card) for card in hand])) == 5\\\n",
    "            and max([card_conversion(card) for card in hand]) - min([card_conversion(card) for card in hand]):\n",
    "                return 'straight_flush'\n",
    "\n",
    "\n",
    "def quads(player_cards, board):\n",
    "    cards = list(player_cards) + board\n",
    "    hands = list(itertools.combinations(cards, 5))\n",
    "    for hand in hands:\n",
    "        for card in hand:\n",
    "            if [card[0] for card in hand].count(card[0]) == 4:\n",
    "                return 'quads'\n",
    "\n",
    "\n",
    "def flush(player_cards, board):\n",
    "    cards = list(player_cards) + board\n",
    "    hands = list(itertools.combinations(cards, 5))\n",
    "    for hand in hands:\n",
    "        for card in hand:\n",
    "            if [card[-1] for card in hand].count(card[-1]) == 5:\n",
    "                return 'flush'\n",
    "\n",
    "\n",
    "def full_house(player_cards, board):\n",
    "    cards = list(player_cards) + board\n",
    "    hands = list(itertools.combinations(cards, 7))\n",
    "    for hand in hands:\n",
    "        for card in hand:\n",
    "            if [card[0] for card in hand].count(card[0]) == 3:\n",
    "                a = card[0]\n",
    "                if len({card[0] for card in hand if card[0] != a}) < 4:\n",
    "                    return 'full_house'\n",
    "\n",
    "\n",
    "def straight(player_cards, board):\n",
    "    cards = list(player_cards) + board\n",
    "    hands = list(itertools.combinations(cards, 5))\n",
    "    for hand in hands:\n",
    "        if len(set([card_conversion(card) for card in hand])) == 5\\\n",
    "        and max([card_conversion(card) for card in hand]) - min([card_conversion(card) for card in hand]) == 4:\n",
    "            return 'straight'\n",
    "\n",
    "\n",
    "def trips_or_two_pair(player_cards, board):\n",
    "    cards = list(player_cards) + board\n",
    "    hands = list(itertools.combinations(cards, 5))\n",
    "    print(hands[0])\n",
    "    for hand in hands:\n",
    "        if len(set([(card_conversion(card)) for card in hand])) == 3:\n",
    "            longest_set = []\n",
    "            for card in [(card_conversion(card)) for card in hand]:\n",
    "                if [(card_conversion(card)) for card in hand].count(card) == 3:\n",
    "                    return 'trips'\n",
    "                elif [(card_conversion(card)) for card in hand].count(card) == 2:\n",
    "                    return 'two pair'\n",
    "\n",
    "\n",
    "                \n",
    "def pair(player_cards, board):\n",
    "    cards = list(player_cards) + board\n",
    "    hands = list(itertools.combinations(cards, 5))\n",
    "    for hand in hands:\n",
    "        for card in hand:\n",
    "            if [card[0] for card in hand].count(card[0]) == 2:\n",
    "                return 'one pair'\n",
    "    return False\n",
    "\n",
    "            \n",
    "    \n",
    "def hand_strength(player_cards, board):\n",
    "    hand_strength_list = ['straight_flush', 'quads', 'full_house', 'flush', 'straight', 'trips','two pair', 'pair']\n",
    "    for hand in hand_strength_list:\n",
    "        if hand == 'straight_flush':\n",
    "            if straight_flush(player_cards, board):\n",
    "                return 'quads'\n",
    "        elif hand == 'quads':\n",
    "            if quads(player_cards, board):\n",
    "                return 'quads'\n",
    "        elif hand == 'full_house':\n",
    "            if full_house(player_cards, board):\n",
    "                return 'full_house'\n",
    "        elif hand == 'flush':\n",
    "            if flush(player_cards, board):\n",
    "                return 'flush'\n",
    "        elif hand == 'straight':\n",
    "            if straight(player_cards, board):\n",
    "                return 'straight'\n",
    "        elif hand == 'trips':\n",
    "            if trips_or_two_pair(player_cards, board) == 'trips':\n",
    "                return 'trips'\n",
    "            elif trips_or_two_pair(player_cards, board) == 'two pair':\n",
    "                return 'two pair'\n",
    "            \n",
    "        elif hand == 'pair':\n",
    "            if pair(player_cards, board):\n",
    "                return 'pair'\n",
    "    \n",
    "        "
   ]
  },
  {
   "cell_type": "code",
   "execution_count": 308,
   "id": "88609bfd",
   "metadata": {},
   "outputs": [],
   "source": [
    "board_test = ['9♦', '9♦', '9♥','9♠','A♠']"
   ]
  },
  {
   "cell_type": "code",
   "execution_count": 406,
   "id": "569459c4",
   "metadata": {},
   "outputs": [],
   "source": [
    "straight_flush_test = ['9♦', '5♦', '7♦','6♠','A♠']"
   ]
  },
  {
   "cell_type": "code",
   "execution_count": 472,
   "id": "f4395e99",
   "metadata": {},
   "outputs": [],
   "source": [
    "quads_test = ['9♦', '9♦', '9♥','9♠','A♠']"
   ]
  },
  {
   "cell_type": "code",
   "execution_count": 488,
   "id": "c8226965",
   "metadata": {},
   "outputs": [],
   "source": [
    "boat_test = ['9♦', '9♦', '9♥','A♠','A♠']"
   ]
  },
  {
   "cell_type": "code",
   "execution_count": 384,
   "id": "7ef9886c",
   "metadata": {},
   "outputs": [],
   "source": [
    "trips_twopair_test = ['9♦', '9♦', 'J♥','J♠','A♠']"
   ]
  },
  {
   "cell_type": "code",
   "execution_count": 404,
   "id": "70c32f84",
   "metadata": {},
   "outputs": [],
   "source": [
    "hand_test = ['7♠', '8♦']"
   ]
  },
  {
   "cell_type": "code",
   "execution_count": 407,
   "id": "44d89eef",
   "metadata": {},
   "outputs": [],
   "source": [
    "def straight_flush(player_cards, board):\n",
    "    cards = player_cards + board\n",
    "    hands = list(itertools.combinations(cards, 5))\n",
    "    for hand in hands:\n",
    "        for card in hand:\n",
    "            if [card[-1] for card in hand].count(card[-1]) == 5\\\n",
    "            and len(set([card_conversion(card) for card in hand])) == 5\\\n",
    "            and max([card_conversion(card) for card in hand]) - min([card_conversion(card) for card in hand]):\n",
    "                return 'straight_flush'\n",
    "    return False"
   ]
  },
  {
   "cell_type": "code",
   "execution_count": 477,
   "id": "b86615df",
   "metadata": {},
   "outputs": [],
   "source": [
    "def quads(player_cards, board):\n",
    "    cards = player_cards + board\n",
    "    hands = list(itertools.combinations(cards, 5))\n",
    "    print(\"hej quads\")\n",
    "    for hand in hands:\n",
    "        for card in hand:\n",
    "            if [card[0] for card in hand].count(card[0]) == 4:\n",
    "                return 'quads'"
   ]
  },
  {
   "cell_type": "code",
   "execution_count": 489,
   "id": "ce01d7c1",
   "metadata": {},
   "outputs": [
    {
     "data": {
      "text/plain": [
       "'full_house'"
      ]
     },
     "execution_count": 489,
     "metadata": {},
     "output_type": "execute_result"
    }
   ],
   "source": [
    "hand_strength(hand_test, boat_test)"
   ]
  },
  {
   "cell_type": "code",
   "execution_count": 354,
   "id": "3f03767e",
   "metadata": {},
   "outputs": [
    {
     "data": {
      "text/plain": [
       "'straight'"
      ]
     },
     "execution_count": 354,
     "metadata": {},
     "output_type": "execute_result"
    }
   ],
   "source": [
    "straight(hand_test, straight_flush_test)"
   ]
  },
  {
   "cell_type": "markdown",
   "id": "51854fc9",
   "metadata": {},
   "source": [
    "## Betting round"
   ]
  },
  {
   "cell_type": "code",
   "execution_count": 496,
   "id": "4951a45a",
   "metadata": {
    "ExecuteTime": {
     "end_time": "2023-04-12T10:38:48.530739Z",
     "start_time": "2023-04-12T10:38:48.517810Z"
    }
   },
   "outputs": [],
   "source": [
    "# Runs when there is a betting round, so once before flop, once after flop, once after turn and finally once after river\n",
    "# One iteration is for one player\n",
    "def betting_round(bet_storage_list, stacks_list, in_play_list, last_action_list, player_cards_list, check_list, player_index):\n",
    "    \n",
    "    while (set(bet_storage_list) == {0} or len({bet_storage_list[i] for i in [index for index, item in enumerate(in_play_list) if item == 1]}) > 1) \\\n",
    "    and in_play_list.count(1) != [check_list[i] for i in [index for index, item in enumerate(in_play_list) if item == 1]].count(1):\n",
    "        \n",
    "        ## Update last_player_list to current player\n",
    "        last_action_list = whose_turn(last_action_list)\n",
    "      \n",
    "\n",
    "        ## Display card\n",
    "        player_index = last_action_list.index(1)\n",
    "        ## Checking if the player has not folded yet\n",
    "        if in_play_list[player_index] == 0:\n",
    "            continue\n",
    "        a = display_hand(player_cards_list, player_index)\n",
    "        print(f'Player {player_index} cards: {a}')\n",
    "\n",
    "        ## Choose move\n",
    "        choose_move(bet_storage_list, stacks_list, in_play_list, check_list, player_index, last_action_type_list)\n",
    "\n",
    "\n"
   ]
  },
  {
   "cell_type": "markdown",
   "id": "589aab69",
   "metadata": {},
   "source": [
    "## Main"
   ]
  },
  {
   "cell_type": "code",
   "execution_count": null,
   "id": "453ec7b6",
   "metadata": {
    "ExecuteTime": {
     "end_time": "2023-04-12T10:41:58.147301Z",
     "start_time": "2023-04-12T10:41:00.018198Z"
    },
    "scrolled": true
   },
   "outputs": [
    {
     "name": "stdout",
     "output_type": "stream",
     "text": [
      "Welcome to Texas hold em\n",
      "What should the starting stack be? 1000\n",
      "\"y\" for display hand, \"n\" to skipy\n",
      "Player 3 cards: ('J♣', '6♠')\n",
      "What do you want to do? [Fold] [Call] [Raise]fold\n",
      "\"y\" for display hand, \"n\" to skipfold\n",
      "Player 0 cards: None\n",
      "What do you want to do? [Fold] [Call] [Raise]fold\n",
      "\"y\" for display hand, \"n\" to skipy\n",
      "Player 1 cards: ('K♥', 'J♥')\n",
      "What do you want to do? [Fold] [Call] [Raise]fold\n"
     ]
    }
   ],
   "source": [
    "print('Welcome to Texas hold em')\n",
    "\n",
    "\n",
    "# players = int(input('How many players? '))\n",
    "players = 4\n",
    "\n",
    "## Return players\n",
    "player_list = create_players(players)\n",
    "\n",
    "## Create last action list, to use later\n",
    "## Creating other necessary lists\n",
    "last_action_list = [0 for x in player_list]\n",
    "bet_storage_list = [0 for x in player_list]\n",
    "in_play_list = [1 for x in player_list]\n",
    "check_list = [0 for x in player_list]\n",
    "pot = 0\n",
    "hand_strength_list = ['straight_flush', 'quads', 'full_house', 'flush', 'straight', 'trips', 'pair']\n",
    "last_action_type_list = ['' for x in player_list]\n",
    "\n",
    "## Create stacks\n",
    "stacks_list = starting_stack(player_list)\n",
    "stacks_list\n",
    "\n",
    "while len([i for i in stacks_list if i > 0]):\n",
    "\n",
    "## Assigns the dealer button to player of index 0\n",
    "    dealer_list = deal_button(player_list, 0)\n",
    "\n",
    "## Creating shuffled deck\n",
    "    deck = create_shuffle_deck()\n",
    "\n",
    "\n",
    "\n",
    "## Ask for bet blind amount\n",
    "# big_blind = int(input('What\\'s the big blind? '))\n",
    "    big_blind = 40\n",
    "    small_blind = big_blind / 2\n",
    "\n",
    "\n",
    "## Deal cards\n",
    "    player_cards_list = deal_cards(deck, player_list)\n",
    "\n",
    "\n",
    "    ## Bet blind\n",
    "    bet_blind(dealer_list, stacks_list, small_blind, big_blind, bet_storage_list, last_action_list)\n",
    "\n",
    "# The while loop checks if all the bets for the player that are in play are  not equal, or if all player in play have not checked\n",
    "    betting_round(bet_storage_list, stacks_list, in_play_list, last_action_list, player_cards_list, check_list, player_index)\n",
    "    last_action_list = update_last_action(dealer_list, last_action_list)\n",
    "    \n",
    "## Update pot\n",
    "    pot += sum(bet_storage_list)\n",
    "\n",
    "## Reset bet_storage_list\n",
    "    bet_storage_list = [0 for x in player_list]\n",
    "\n",
    "##Check if there is more than one player left in the pot\n",
    "    if in_play_list.count(1) < 2:\n",
    "        stacks_list[in_play_list.index(1)] += pot\n",
    "        continue\n",
    "    \n",
    "    \n",
    "    ## Display flop\n",
    "    board = flop(deck)\n",
    "    print(f'Flop: {board}')\n",
    "    print(stacks_list)\n",
    "    print(pot)\n",
    "\n",
    "## New betting round\n",
    "    betting_round(bet_storage_list, stacks_list, in_play_list, last_action_list, player_cards_list, check_list, player_index)\n",
    "    last_action_list = update_last_action(dealer_list, last_action_list)\n",
    "\n",
    "## Update pot\n",
    "    pot += sum(bet_storage_list)\n",
    "\n",
    "##Check if there is more than one player left in the pot\n",
    "    if in_play_list.count(1) < 2:\n",
    "        stacks_list[in_play_list.index(1)] += pot\n",
    "        continue\n",
    "\n",
    "    ## Display turn\n",
    "    board += turn(deck)\n",
    "    print(f'Turn: {board}')\n",
    "\n",
    "## New betting round\n",
    "    betting_round(bet_storage_list, stacks_list, in_play_list, last_action_list, player_cards_list, check_list, player_index)\n",
    "    last_action_list = update_last_action(dealer_list, last_action_list)\n",
    "\n",
    "## Update pot\n",
    "    pot += sum(bet_storage_list)\n",
    "\n",
    "## Reset bet_storage_list\n",
    "    bet_storage_list = [0 for x in player_list]\n",
    "\n",
    "##Check if there is more than one player left in the pot\n",
    "    if in_play_list.count(1) < 2:\n",
    "        stacks_list[in_play_list.index(1)] += pot\n",
    "        continue\n",
    "\n",
    "    ## Display river\n",
    "    board += river(deck)\n",
    "    print(f'River: {board}')\n",
    "\n",
    "    ## New betting round\n",
    "    betting_round(bet_storage_list, stacks_list, in_play_list, last_action_list, player_cards_list, check_list, player_index)\n",
    "    last_action_list = update_last_action(dealer_list, last_action_list)\n",
    "\n",
    "    ## Update pot\n",
    "    pot += sum(bet_storage_list)\n",
    "\n",
    "    ## Reset bet_storage_list\n",
    "    bet_storage_list = [0 for x in player_list]\n",
    "\n",
    "    ## Showdown (The one being called shows first, then in order. The winner adds the pot to their stack)\n",
    "    showdown(stacks_list, in_play_list, last_action_list, last_action_type_list, player_cards_list, player_index, dealer_list, board, pot)\n",
    "\n"
   ]
  },
  {
   "cell_type": "code",
   "execution_count": null,
   "id": "64655452",
   "metadata": {},
   "outputs": [],
   "source": [
    "print(stacks_list)"
   ]
  },
  {
   "cell_type": "code",
   "execution_count": 516,
   "id": "08fcb361",
   "metadata": {},
   "outputs": [
    {
     "data": {
      "text/plain": [
       "0"
      ]
     },
     "execution_count": 516,
     "metadata": {},
     "output_type": "execute_result"
    }
   ],
   "source": [
    "dealer_list.index('D')"
   ]
  },
  {
   "cell_type": "code",
   "execution_count": 517,
   "id": "facd1c6c",
   "metadata": {},
   "outputs": [
    {
     "data": {
      "text/plain": [
       "0"
      ]
     },
     "execution_count": 517,
     "metadata": {},
     "output_type": "execute_result"
    }
   ],
   "source": [
    "in_play_list[dealer_list.index('D')]"
   ]
  },
  {
   "cell_type": "code",
   "execution_count": null,
   "id": "2babdefd",
   "metadata": {},
   "outputs": [],
   "source": []
  }
 ],
 "metadata": {
  "kernelspec": {
   "display_name": "Python 3 (ipykernel)",
   "language": "python",
   "name": "python3"
  },
  "language_info": {
   "codemirror_mode": {
    "name": "ipython",
    "version": 3
   },
   "file_extension": ".py",
   "mimetype": "text/x-python",
   "name": "python",
   "nbconvert_exporter": "python",
   "pygments_lexer": "ipython3",
   "version": "3.10.9"
  },
  "toc": {
   "base_numbering": 1,
   "nav_menu": {
    "height": "309px",
    "width": "255px"
   },
   "number_sections": true,
   "sideBar": true,
   "skip_h1_title": false,
   "title_cell": "Table of Contents",
   "title_sidebar": "Contents",
   "toc_cell": false,
   "toc_position": {
    "height": "calc(100% - 180px)",
    "left": "10px",
    "top": "150px",
    "width": "291.6px"
   },
   "toc_section_display": true,
   "toc_window_display": false
  }
 },
 "nbformat": 4,
 "nbformat_minor": 5
}
